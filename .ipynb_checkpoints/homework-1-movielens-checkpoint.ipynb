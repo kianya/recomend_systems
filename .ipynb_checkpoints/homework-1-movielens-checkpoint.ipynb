{
 "cells": [
  {
   "cell_type": "markdown",
   "metadata": {},
   "source": [
    "# Домашняя работа. Рекомендации на основе содержания"
   ]
  },
  {
   "cell_type": "markdown",
   "metadata": {},
   "source": [
    "- Использовать dataset MovieLens\n",
    "- Построить рекомендации (регрессия, предсказываем оценку) на фичах:\n",
    " - TF-IDF на тегах и жанрах\n",
    " - Средние оценки (+ median, variance, etc.) пользователя и фильма\n",
    "- Оценить RMSE на тестовой выборке"
   ]
  },
  {
   "cell_type": "code",
   "execution_count": 1,
   "metadata": {},
   "outputs": [],
   "source": [
    "import pandas as pd\n",
    "import numpy as np\n",
    "\n",
    "from sklearn.feature_extraction.text import TfidfTransformer, CountVectorizer\n",
    "from sklearn.neighbors import NearestNeighbors\n",
    "\n",
    "%matplotlib inline"
   ]
  },
  {
   "cell_type": "code",
   "execution_count": 42,
   "metadata": {},
   "outputs": [],
   "source": [
    "links = pd.read_csv('../lecture-1/ml-latest-small/links.csv')\n",
    "movies = pd.read_csv('../lecture-1/ml-latest-small/movies.csv')\n",
    "ratings = pd.read_csv('../lecture-1/ml-latest-small/ratings.csv')\n",
    "tags = pd.read_csv('../lecture-1/ml-latest-small/tags.csv')"
   ]
  },
  {
   "cell_type": "markdown",
   "metadata": {},
   "source": [
    "## Формирование обучающей выборки для рекоммендаций"
   ]
  },
  {
   "cell_type": "markdown",
   "metadata": {},
   "source": [
    "TF (term frequency — частота слова) — отношение числа вхождений некоторого слова к общему числу слов документа. Таким образом, оценивается важность слова $ t_{i} $ в пределах отдельного документа.\n",
    "\n",
    "$${\\displaystyle \\mathrm {tf} (t,d)={\\frac {n_{t}}{\\sum _{k}n_{k}}}},$$ где ${\\displaystyle n_{t}}$ есть число вхождений слова ${\\displaystyle t}$ в документ, а в знаменателе — общее число слов в данном документе.\n",
    "\n",
    "\n",
    "IDF (inverse document frequency — обратная частота документа) — инверсия частоты, с которой некоторое слово встречается в документах коллекции. Основоположником данной концепции является Карен Спарк Джонс. Учёт IDF уменьшает вес широкоупотребительных слов. Для каждого уникального слова в пределах конкретной коллекции документов существует только одно значение IDF.\n",
    "\n",
    "$${\\mathrm {idf} (t,D)=\\log {\\frac {|D|}{|\\{\\,d_{i}\\in D\\mid t\\in d_{i}\\,\\}|}}}$$ ,\n",
    "где\n",
    "\n",
    "|D| — число документов в коллекции;\n",
    "${\\displaystyle |\\{\\,d_{i}\\in D\\mid t\\in d_{i}\\,\\}|}$ — число документов из коллекции  D, в которых встречается t (когда ${\\displaystyle n_{t}\\neq 0}$)."
   ]
  },
  {
   "cell_type": "code",
   "execution_count": 43,
   "metadata": {},
   "outputs": [],
   "source": [
    "# Добавляем в датасет теги для обработки информации\n",
    "movies = movies.join(tags.groupby('movieId').apply(lambda x: \"|\".join(x['tag'])).rename('tags'),\n",
    "            on='movieId', how='left', sort=False)"
   ]
  },
  {
   "cell_type": "code",
   "execution_count": 44,
   "metadata": {},
   "outputs": [],
   "source": [
    "# Средние оценки\n",
    "df_ratings = ratings.groupby('movieId').agg({'userId': np.count_nonzero, \n",
    "                                'rating': [np.median, np.var, np.average]})\n",
    "df_ratings.columns=['userid_count', 'rating_median', 'rating_var', 'rating_average']\n",
    "\n",
    "movies = movies.join(df_ratings, on='movieId', how='left', sort=False)\n",
    "movies = movies.fillna('')"
   ]
  },
  {
   "cell_type": "code",
   "execution_count": 47,
   "metadata": {},
   "outputs": [],
   "source": [
    "genres = []\n",
    "for i in movies.genres.str.split('|'):\n",
    "    for j in i:\n",
    "        genres.append(j)\n",
    "\n",
    "dict_genres_idf = {i:np.log(len(movies)/genres.count(i)) for i in genres}"
   ]
  },
  {
   "cell_type": "code",
   "execution_count": 48,
   "metadata": {},
   "outputs": [],
   "source": [
    "# Выберем только те тэги, которые встречаются больше 5 раз\n",
    "tags = []\n",
    "for i in movies[(movies.tags.isna()==False)].tags.str.split('|'):\n",
    "    for j in i :\n",
    "        tags.append(j)\n",
    "\n",
    "dict_tags_idf = {i:tags.count(i) for i in tags if tags.count(i)>5 and i!=''}"
   ]
  },
  {
   "cell_type": "code",
   "execution_count": 49,
   "metadata": {},
   "outputs": [
    {
     "data": {
      "text/plain": [
       "125"
      ]
     },
     "execution_count": 49,
     "metadata": {},
     "output_type": "execute_result"
    }
   ],
   "source": [
    "len(sorted(dict_tags_idf.items(), key=lambda kv: kv[1]) )"
   ]
  },
  {
   "cell_type": "code",
   "execution_count": 50,
   "metadata": {},
   "outputs": [],
   "source": [
    "for i in dict_genres_idf:\n",
    "    movies['tf_idf_'+i] = movies.apply(lambda row: \n",
    "                                   (1/len(row['genres'].split('|')))*dict_genres_idf[i]\n",
    "                                   if i in row['genres'] else 0, axis=1)"
   ]
  },
  {
   "cell_type": "code",
   "execution_count": 51,
   "metadata": {
    "scrolled": true
   },
   "outputs": [],
   "source": [
    "for i in dict_tags_idf:\n",
    "    movies['tf_idf_'+i] = movies.apply(lambda row: \n",
    "                                   (1/len(row['tags'].split('|')))*dict_tags_idf[i]\n",
    "                                   if i in row['tags'] else 0, axis=1)"
   ]
  },
  {
   "cell_type": "markdown",
   "metadata": {},
   "source": [
    "## Линейная регрессия для предсказания оценки пользователя"
   ]
  },
  {
   "cell_type": "markdown",
   "metadata": {},
   "source": [
    "Используем линейную регрессию, чтобы предсказать переменную - среднюю оценку пользователей (rating_average)"
   ]
  },
  {
   "cell_type": "code",
   "execution_count": 10,
   "metadata": {},
   "outputs": [],
   "source": []
  }
 ],
 "metadata": {
  "kernelspec": {
   "display_name": "Python 3",
   "language": "python",
   "name": "python3"
  },
  "language_info": {
   "codemirror_mode": {
    "name": "ipython",
    "version": 3
   },
   "file_extension": ".py",
   "mimetype": "text/x-python",
   "name": "python",
   "nbconvert_exporter": "python",
   "pygments_lexer": "ipython3",
   "version": "3.6.6"
  }
 },
 "nbformat": 4,
 "nbformat_minor": 2
}
