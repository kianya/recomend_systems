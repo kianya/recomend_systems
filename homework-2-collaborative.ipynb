{
 "cells": [
  {
   "cell_type": "markdown",
   "metadata": {},
   "source": [
    "# Домашняя работа 2. Коллаборативная фильтрация (USER-BASED)"
   ]
  },
  {
   "cell_type": "markdown",
   "metadata": {},
   "source": [
    "Используем ПАКЕТ SURPRISE\n",
    "\n",
    "- используйте данные MovieLens 1M\n",
    "- можно использовать любые модели из пакета\n",
    "- получите RMSE на тестовом сете 0.87 и ниже\n",
    "\n",
    "Решением будет ссылка на гитхаб с готовым ноутбуком"
   ]
  },
  {
   "cell_type": "markdown",
   "metadata": {},
   "source": [
    "## 1. Импорт библиотек"
   ]
  },
  {
   "cell_type": "code",
   "execution_count": 296,
   "metadata": {},
   "outputs": [],
   "source": [
    "import pandas as pd\n",
    "import numpy as np\n",
    "\n",
    "# Пакет Surprise\n",
    "from surprise import KNNWithMeans, KNNBasic, NMF\n",
    "from surprise import Dataset\n",
    "from surprise import accuracy\n",
    "from surprise import Reader\n",
    "\n",
    "from surprise.model_selection import train_test_split\n",
    "from surprise.model_selection import KFold\n",
    "from surprise.model_selection import GridSearchCV\n",
    "\n",
    "\n",
    "%matplotlib inline"
   ]
  },
  {
   "cell_type": "markdown",
   "metadata": {},
   "source": [
    "## 2. Загрузка данных"
   ]
  },
  {
   "cell_type": "code",
   "execution_count": 297,
   "metadata": {
    "scrolled": true
   },
   "outputs": [
    {
     "name": "stderr",
     "output_type": "stream",
     "text": [
      "/Users/akirichenko/anaconda3/lib/python3.6/site-packages/ipykernel_launcher.py:1: ParserWarning: Falling back to the 'python' engine because the 'c' engine does not support regex separators (separators > 1 char and different from '\\s+' are interpreted as regex); you can avoid this warning by specifying engine='python'.\n",
      "  \"\"\"Entry point for launching an IPython kernel.\n",
      "/Users/akirichenko/anaconda3/lib/python3.6/site-packages/ipykernel_launcher.py:2: ParserWarning: Falling back to the 'python' engine because the 'c' engine does not support regex separators (separators > 1 char and different from '\\s+' are interpreted as regex); you can avoid this warning by specifying engine='python'.\n",
      "  \n"
     ]
    }
   ],
   "source": [
    "movies = pd.read_csv('../data/ml-1m/movies.dat', sep='::', names=['movieId', 'title', 'genres'])\n",
    "ratings = pd.read_csv('../data/ml-1m/ratings.dat', sep='::', names=['userId', 'movieId', 'rating', 'timestamp'])"
   ]
  },
  {
   "cell_type": "code",
   "execution_count": 298,
   "metadata": {},
   "outputs": [],
   "source": [
    "movies = pd.read_csv('../data/ml-latest-small/movies.csv', )\n",
    "ratings = pd.read_csv('../data/ml-latest-small/ratings.csv',)"
   ]
  },
  {
   "cell_type": "code",
   "execution_count": 286,
   "metadata": {},
   "outputs": [],
   "source": [
    "movies_with_ratings = ratings.merge(movies, on='movieId', how='left')\n",
    "dataset = pd.DataFrame({\n",
    "    'uid': movies_with_ratings.userId,\n",
    "    'iid': movies_with_ratings.movieId,\n",
    "    'rating': movies_with_ratings.rating\n",
    "})"
   ]
  },
  {
   "cell_type": "code",
   "execution_count": 287,
   "metadata": {},
   "outputs": [],
   "source": [
    "reader = Reader(rating_scale=(0.5, 5.0))\n",
    "data = Dataset.load_from_df(dataset, reader)"
   ]
  },
  {
   "cell_type": "code",
   "execution_count": 288,
   "metadata": {},
   "outputs": [],
   "source": [
    "# Установим параметры алгоритма\n",
    "algo = KNNWithMeans(k=50, sim_options={'name': 'pearson_baseline', 'user_based': False})"
   ]
  },
  {
   "cell_type": "code",
   "execution_count": 289,
   "metadata": {},
   "outputs": [],
   "source": [
    "trainset, testset = train_test_split(data, test_size=.25)"
   ]
  },
  {
   "cell_type": "code",
   "execution_count": 162,
   "metadata": {},
   "outputs": [
    {
     "name": "stdout",
     "output_type": "stream",
     "text": [
      "Estimating biases using als...\n",
      "Computing the pearson_baseline similarity matrix...\n",
      "Done computing similarity matrix.\n",
      "RMSE: 0.8818\n",
      "Estimating biases using als...\n",
      "Computing the pearson_baseline similarity matrix...\n",
      "Done computing similarity matrix.\n",
      "RMSE: 0.8875\n",
      "Estimating biases using als...\n",
      "Computing the pearson_baseline similarity matrix...\n",
      "Done computing similarity matrix.\n",
      "RMSE: 0.8831\n",
      "Estimating biases using als...\n",
      "Computing the pearson_baseline similarity matrix...\n",
      "Done computing similarity matrix.\n",
      "RMSE: 0.8829\n",
      "Estimating biases using als...\n",
      "Computing the pearson_baseline similarity matrix...\n",
      "Done computing similarity matrix.\n",
      "RMSE: 0.8774\n"
     ]
    }
   ],
   "source": [
    "# define a cross-validation iterator\n",
    "kf = KFold(n_splits=5)\n",
    "\n",
    "for trainset, testset in kf.split(data):\n",
    "\n",
    "    # train and test algorithm.\n",
    "    algo.fit(trainset)\n",
    "    predictions = algo.test(testset)\n",
    "\n",
    "    # Compute and print Root Mean Squared Error\n",
    "    accuracy.rmse(predictions, verbose=True)"
   ]
  },
  {
   "cell_type": "code",
   "execution_count": null,
   "metadata": {},
   "outputs": [],
   "source": [
    "algo.fit(trainset)"
   ]
  },
  {
   "cell_type": "code",
   "execution_count": 299,
   "metadata": {},
   "outputs": [],
   "source": [
    "param_grid = {'n_epochs': [5, 10], 'lr_all': [0.002, 0.005],\n",
    "              'reg_all': [0.4, 0.6]}\n",
    "gs = GridSearchCV(SVD, param_grid, measures=['rmse', 'mae'], cv=3)\n",
    "\n",
    "gs.fit(data)"
   ]
  },
  {
   "cell_type": "code",
   "execution_count": 291,
   "metadata": {},
   "outputs": [],
   "source": [
    "predictions = algo.test(testset)"
   ]
  },
  {
   "cell_type": "code",
   "execution_count": 292,
   "metadata": {},
   "outputs": [
    {
     "name": "stdout",
     "output_type": "stream",
     "text": [
      "RMSE: 0.8622\n"
     ]
    },
    {
     "data": {
      "text/plain": [
       "0.8621986356275212"
      ]
     },
     "execution_count": 292,
     "metadata": {},
     "output_type": "execute_result"
    }
   ],
   "source": [
    "accuracy.rmse(predictions, verbose=True)"
   ]
  },
  {
   "cell_type": "code",
   "execution_count": null,
   "metadata": {},
   "outputs": [
    {
     "name": "stdout",
     "output_type": "stream",
     "text": [
      "Computing the msd similarity matrix...\n",
      "Done computing similarity matrix.\n",
      "Computing the msd similarity matrix...\n",
      "Done computing similarity matrix.\n",
      "Computing the msd similarity matrix...\n",
      "Done computing similarity matrix.\n",
      "Computing the msd similarity matrix...\n",
      "Done computing similarity matrix.\n",
      "Computing the msd similarity matrix...\n",
      "Done computing similarity matrix.\n",
      "Computing the msd similarity matrix...\n",
      "Done computing similarity matrix.\n"
     ]
    }
   ],
   "source": [
    "# Use grid search for model selecting:\n",
    "ks = [30, 50]\n",
    "min_ks = [5, 10]\n",
    "param_grid = {'k': ks, 'min_k': min_ks, \n",
    "              'sim_options': {'name': ['msd', 'cosine'],\n",
    "                              'min_support': [1, 5],\n",
    "                              'user_based': [False]}\n",
    "              }\n",
    "\n",
    "gs = GridSearchCV(KNNWithMeans, param_grid, measures=['rmse', 'mae'], cv=3)\n",
    "\n",
    "gs.fit(data)"
   ]
  },
  {
   "cell_type": "code",
   "execution_count": null,
   "metadata": {},
   "outputs": [],
   "source": [
    "# best RMSE score\n",
    "print(gs.best_score['rmse'])\n",
    "\n",
    "# combination of parameters that gave the best RMSE score\n",
    "print(gs.best_params['rmse'])"
   ]
  },
  {
   "cell_type": "markdown",
   "metadata": {},
   "source": [
    "### 3. Cформируем предложения для конкретного пользователя"
   ]
  },
  {
   "cell_type": "code",
   "execution_count": 293,
   "metadata": {},
   "outputs": [
    {
     "data": {
      "text/html": [
       "<div>\n",
       "<style scoped>\n",
       "    .dataframe tbody tr th:only-of-type {\n",
       "        vertical-align: middle;\n",
       "    }\n",
       "\n",
       "    .dataframe tbody tr th {\n",
       "        vertical-align: top;\n",
       "    }\n",
       "\n",
       "    .dataframe thead th {\n",
       "        text-align: right;\n",
       "    }\n",
       "</style>\n",
       "<table border=\"1\" class=\"dataframe\">\n",
       "  <thead>\n",
       "    <tr style=\"text-align: right;\">\n",
       "      <th></th>\n",
       "      <th>userId</th>\n",
       "      <th>movieId</th>\n",
       "      <th>title</th>\n",
       "      <th>rating_pred</th>\n",
       "    </tr>\n",
       "  </thead>\n",
       "  <tbody>\n",
       "    <tr>\n",
       "      <th>2952</th>\n",
       "      <td>157</td>\n",
       "      <td>3233</td>\n",
       "      <td>Smashing Time (1967)</td>\n",
       "      <td>5.000000</td>\n",
       "    </tr>\n",
       "    <tr>\n",
       "      <th>3014</th>\n",
       "      <td>157</td>\n",
       "      <td>3656</td>\n",
       "      <td>Lured (1947)</td>\n",
       "      <td>5.000000</td>\n",
       "    </tr>\n",
       "    <tr>\n",
       "      <th>2954</th>\n",
       "      <td>157</td>\n",
       "      <td>3172</td>\n",
       "      <td>Ulysses (Ulisse) (1954)</td>\n",
       "      <td>5.000000</td>\n",
       "    </tr>\n",
       "    <tr>\n",
       "      <th>1986</th>\n",
       "      <td>157</td>\n",
       "      <td>787</td>\n",
       "      <td>Gate of Heavenly Peace, The (1995)</td>\n",
       "      <td>5.000000</td>\n",
       "    </tr>\n",
       "    <tr>\n",
       "      <th>2934</th>\n",
       "      <td>157</td>\n",
       "      <td>1830</td>\n",
       "      <td>Follow the Bitch (1998)</td>\n",
       "      <td>5.000000</td>\n",
       "    </tr>\n",
       "    <tr>\n",
       "      <th>2904</th>\n",
       "      <td>157</td>\n",
       "      <td>989</td>\n",
       "      <td>Schlafes Bruder (Brother of Sleep) (1995)</td>\n",
       "      <td>5.000000</td>\n",
       "    </tr>\n",
       "    <tr>\n",
       "      <th>2602</th>\n",
       "      <td>157</td>\n",
       "      <td>3232</td>\n",
       "      <td>Seven Chances (1925)</td>\n",
       "      <td>5.000000</td>\n",
       "    </tr>\n",
       "    <tr>\n",
       "      <th>2891</th>\n",
       "      <td>157</td>\n",
       "      <td>557</td>\n",
       "      <td>Mamma Roma (1962)</td>\n",
       "      <td>5.000000</td>\n",
       "    </tr>\n",
       "    <tr>\n",
       "      <th>2511</th>\n",
       "      <td>157</td>\n",
       "      <td>578</td>\n",
       "      <td>Hour of the Pig, The (1993)</td>\n",
       "      <td>5.000000</td>\n",
       "    </tr>\n",
       "    <tr>\n",
       "      <th>3025</th>\n",
       "      <td>157</td>\n",
       "      <td>3607</td>\n",
       "      <td>One Little Indian (1973)</td>\n",
       "      <td>5.000000</td>\n",
       "    </tr>\n",
       "    <tr>\n",
       "      <th>3018</th>\n",
       "      <td>157</td>\n",
       "      <td>3382</td>\n",
       "      <td>Song of Freedom (1936)</td>\n",
       "      <td>5.000000</td>\n",
       "    </tr>\n",
       "    <tr>\n",
       "      <th>2733</th>\n",
       "      <td>157</td>\n",
       "      <td>729</td>\n",
       "      <td>Institute Benjamenta, or This Dream People Cal...</td>\n",
       "      <td>5.000000</td>\n",
       "    </tr>\n",
       "    <tr>\n",
       "      <th>2189</th>\n",
       "      <td>157</td>\n",
       "      <td>3245</td>\n",
       "      <td>I Am Cuba (Soy Cuba/Ya Kuba) (1964)</td>\n",
       "      <td>4.988360</td>\n",
       "    </tr>\n",
       "    <tr>\n",
       "      <th>3000</th>\n",
       "      <td>157</td>\n",
       "      <td>439</td>\n",
       "      <td>Dangerous Game (1993)</td>\n",
       "      <td>4.913592</td>\n",
       "    </tr>\n",
       "    <tr>\n",
       "      <th>2515</th>\n",
       "      <td>157</td>\n",
       "      <td>2931</td>\n",
       "      <td>Time of the Gypsies (Dom za vesanje) (1989)</td>\n",
       "      <td>4.875372</td>\n",
       "    </tr>\n",
       "    <tr>\n",
       "      <th>2749</th>\n",
       "      <td>157</td>\n",
       "      <td>2503</td>\n",
       "      <td>Apple, The (Sib) (1998)</td>\n",
       "      <td>4.802864</td>\n",
       "    </tr>\n",
       "    <tr>\n",
       "      <th>913</th>\n",
       "      <td>157</td>\n",
       "      <td>1212</td>\n",
       "      <td>Third Man, The (1949)</td>\n",
       "      <td>4.748649</td>\n",
       "    </tr>\n",
       "    <tr>\n",
       "      <th>20</th>\n",
       "      <td>157</td>\n",
       "      <td>745</td>\n",
       "      <td>Close Shave, A (1995)</td>\n",
       "      <td>4.739565</td>\n",
       "    </tr>\n",
       "    <tr>\n",
       "      <th>1708</th>\n",
       "      <td>157</td>\n",
       "      <td>1178</td>\n",
       "      <td>Paths of Glory (1957)</td>\n",
       "      <td>4.681124</td>\n",
       "    </tr>\n",
       "    <tr>\n",
       "      <th>2731</th>\n",
       "      <td>157</td>\n",
       "      <td>598</td>\n",
       "      <td>Window to Paris (1994)</td>\n",
       "      <td>4.670698</td>\n",
       "    </tr>\n",
       "  </tbody>\n",
       "</table>\n",
       "</div>"
      ],
      "text/plain": [
       "     userId movieId                                              title  \\\n",
       "2952    157    3233                               Smashing Time (1967)   \n",
       "3014    157    3656                                       Lured (1947)   \n",
       "2954    157    3172                            Ulysses (Ulisse) (1954)   \n",
       "1986    157     787                 Gate of Heavenly Peace, The (1995)   \n",
       "2934    157    1830                            Follow the Bitch (1998)   \n",
       "2904    157     989          Schlafes Bruder (Brother of Sleep) (1995)   \n",
       "2602    157    3232                               Seven Chances (1925)   \n",
       "2891    157     557                                  Mamma Roma (1962)   \n",
       "2511    157     578                        Hour of the Pig, The (1993)   \n",
       "3025    157    3607                           One Little Indian (1973)   \n",
       "3018    157    3382                             Song of Freedom (1936)   \n",
       "2733    157     729  Institute Benjamenta, or This Dream People Cal...   \n",
       "2189    157    3245                I Am Cuba (Soy Cuba/Ya Kuba) (1964)   \n",
       "3000    157     439                              Dangerous Game (1993)   \n",
       "2515    157    2931        Time of the Gypsies (Dom za vesanje) (1989)   \n",
       "2749    157    2503                            Apple, The (Sib) (1998)   \n",
       "913     157    1212                              Third Man, The (1949)   \n",
       "20      157     745                              Close Shave, A (1995)   \n",
       "1708    157    1178                              Paths of Glory (1957)   \n",
       "2731    157     598                             Window to Paris (1994)   \n",
       "\n",
       "      rating_pred  \n",
       "2952     5.000000  \n",
       "3014     5.000000  \n",
       "2954     5.000000  \n",
       "1986     5.000000  \n",
       "2934     5.000000  \n",
       "2904     5.000000  \n",
       "2602     5.000000  \n",
       "2891     5.000000  \n",
       "2511     5.000000  \n",
       "3025     5.000000  \n",
       "3018     5.000000  \n",
       "2733     5.000000  \n",
       "2189     4.988360  \n",
       "3000     4.913592  \n",
       "2515     4.875372  \n",
       "2749     4.802864  \n",
       "913      4.748649  \n",
       "20       4.739565  \n",
       "1708     4.681124  \n",
       "2731     4.670698  "
      ]
     },
     "execution_count": 293,
     "metadata": {},
     "output_type": "execute_result"
    }
   ],
   "source": [
    "uid=157\n",
    "# Подбираем 20 фильмов, которые могут понравиться пользователю\n",
    "def get_20_personal_predistions(uid):\n",
    "    df = pd.DataFrame(columns=['userId', 'movieId', 'title', 'rating_pred'])\n",
    "    uid_movies = movies_with_ratings[(movies_with_ratings.userId==uid)].movieId.values\n",
    "    iid_movies = [i for i in movies_with_ratings.movieId.unique() if i not in uid_movies]\n",
    "    for i in iid_movies:\n",
    "        if trainset.knows_item(i):\n",
    "            if len(movies[(movies.movieId==i)])!=0:\n",
    "                title = ''.join(movies[(movies.movieId==i)].title.values)\n",
    "                prediction = algo.predict(uid=uid, iid=i)\n",
    "                df = df.append({'userId': uid, 'movieId': i, 'title':title, 'rating_pred': prediction.est}, ignore_index=True)\n",
    "    return df.sort_values('rating_pred', ascending=False).head(20)\n",
    "\n",
    "get_20_personal_predistions(uid)"
   ]
  }
 ],
 "metadata": {
  "kernelspec": {
   "display_name": "Python 3",
   "language": "python",
   "name": "python3"
  },
  "language_info": {
   "codemirror_mode": {
    "name": "ipython",
    "version": 3
   },
   "file_extension": ".py",
   "mimetype": "text/x-python",
   "name": "python",
   "nbconvert_exporter": "python",
   "pygments_lexer": "ipython3",
   "version": "3.6.6"
  }
 },
 "nbformat": 4,
 "nbformat_minor": 2
}
