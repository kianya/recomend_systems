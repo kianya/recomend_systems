{
 "cells": [
  {
   "cell_type": "markdown",
   "metadata": {},
   "source": [
    "# Домашняя работа. Рекомендации на основе содержания"
   ]
  },
  {
   "cell_type": "markdown",
   "metadata": {},
   "source": [
    "- Использовать dataset MovieLens\n",
    "- Построить рекомендации (регрессия, предсказываем оценку) на фичах:\n",
    " - TF-IDF на тегах и жанрах\n",
    " - Средние оценки (+ median, variance, etc.) пользователя и фильма\n",
    "- Оценить RMSE на тестовой выборке"
   ]
  },
  {
   "cell_type": "code",
   "execution_count": 1,
   "metadata": {},
   "outputs": [],
   "source": [
    "import pandas as pd\n",
    "import numpy as np\n",
    "\n",
    "from sklearn.feature_extraction.text import TfidfTransformer, CountVectorizer\n",
    "from sklearn.neighbors import NearestNeighbors\n",
    "\n",
    "%matplotlib inline"
   ]
  },
  {
   "cell_type": "code",
   "execution_count": 2,
   "metadata": {},
   "outputs": [],
   "source": [
    "links = pd.read_csv('../lecture-1/ml-latest-small/links.csv')\n",
    "movies = pd.read_csv('../lecture-1/ml-latest-small/movies.csv')\n",
    "ratings = pd.read_csv('../lecture-1/ml-latest-small/ratings.csv')\n",
    "tags = pd.read_csv('../lecture-1/ml-latest-small/tags.csv')"
   ]
  },
  {
   "cell_type": "markdown",
   "metadata": {},
   "source": [
    "## Формирование обучающей выборки для рекоммендаций"
   ]
  },
  {
   "cell_type": "markdown",
   "metadata": {},
   "source": [
    "TF (term frequency — частота слова) — отношение числа вхождений некоторого слова к общему числу слов документа. Таким образом, оценивается важность слова $ t_{i} $ в пределах отдельного документа.\n",
    "\n",
    "$${\\displaystyle \\mathrm {tf} (t,d)={\\frac {n_{t}}{\\sum _{k}n_{k}}}},$$ где ${\\displaystyle n_{t}}$ есть число вхождений слова ${\\displaystyle t}$ в документ, а в знаменателе — общее число слов в данном документе.\n",
    "\n",
    "\n",
    "IDF (inverse document frequency — обратная частота документа) — инверсия частоты, с которой некоторое слово встречается в документах коллекции. Основоположником данной концепции является Карен Спарк Джонс. Учёт IDF уменьшает вес широкоупотребительных слов. Для каждого уникального слова в пределах конкретной коллекции документов существует только одно значение IDF.\n",
    "\n",
    "$${\\mathrm {idf} (t,D)=\\log {\\frac {|D|}{|\\{\\,d_{i}\\in D\\mid t\\in d_{i}\\,\\}|}}}$$ ,\n",
    "где\n",
    "\n",
    "|D| — число документов в коллекции;\n",
    "${\\displaystyle |\\{\\,d_{i}\\in D\\mid t\\in d_{i}\\,\\}|}$ — число документов из коллекции  D, в которых встречается t (когда ${\\displaystyle n_{t}\\neq 0}$)."
   ]
  },
  {
   "cell_type": "code",
   "execution_count": 3,
   "metadata": {},
   "outputs": [],
   "source": [
    "# Добавляем в датасет теги для обработки информации\n",
    "movies_with_tags = movies.join(tags.groupby('movieId').apply(lambda x: \"|\".join(x['tag'])).rename('tags'),\n",
    "            on='movieId', how='left', sort=False)\n",
    "movies_with_tags = movies_with_tags.fillna('')"
   ]
  },
  {
   "cell_type": "code",
   "execution_count": 4,
   "metadata": {},
   "outputs": [],
   "source": [
    "movie_count_raitings = movies[['movieId']].join(ratings.groupby('movieId')[['userId']].count(), on='movieId')"
   ]
  },
  {
   "cell_type": "code",
   "execution_count": 5,
   "metadata": {},
   "outputs": [],
   "source": [
    "# Средние оценки\n",
    "df_ratings = ratings.groupby('movieId').agg({'userId': np.count_nonzero, \n",
    "                                'rating': [np.median, np.var, np.average]})\n",
    "df_ratings.columns=['userid_count', 'rating_median', 'rating_var', 'rating_average']\n",
    "\n",
    "movies_ratings = movies_with_tags.join(df_ratings, on='movieId', how='left', sort=False)\n",
    "movies_ratings = movies_ratings.fillna(0)"
   ]
  },
  {
   "cell_type": "code",
   "execution_count": 6,
   "metadata": {},
   "outputs": [],
   "source": [
    "movies_ratings['norm_raiting'] = movies_ratings.apply(lambda row: (row['rating_average'])\n",
    "                             /(movies_ratings['rating_average'].max() - movies_ratings['rating_average'].min())\n",
    "                 , axis=1)\n",
    "movies_ratings['norm_userid'] = movies_ratings.apply(lambda row: (row['userid_count'])\n",
    "                             /(movies_ratings['userid_count'].max() - movies_ratings['userid_count'].min())\n",
    "                 , axis=1)\n",
    "movies_ratings['TARGET'] = movies_ratings['norm_userid'] * movies_ratings['norm_raiting']"
   ]
  },
  {
   "cell_type": "code",
   "execution_count": 7,
   "metadata": {},
   "outputs": [],
   "source": [
    "movies_ratings_ml = movies_ratings[['movieId', 'genres', 'tags', 'userid_count', 'TARGET']]"
   ]
  },
  {
   "cell_type": "code",
   "execution_count": 8,
   "metadata": {},
   "outputs": [],
   "source": [
    "genres = []\n",
    "for i in movies_ratings_ml.genres.str.split('|'):\n",
    "    for j in i:\n",
    "        genres.append(j)\n",
    "\n",
    "dict_genres_idf = {i:np.log(len(movies_ratings_ml)/genres.count(i)) for i in genres}"
   ]
  },
  {
   "cell_type": "code",
   "execution_count": 9,
   "metadata": {},
   "outputs": [],
   "source": [
    "# Выберем только те тэги, которые встречаются больше 5 раз\n",
    "tags = []\n",
    "for i in movies_ratings_ml[(movies_ratings_ml.tags.isna()==False)].tags.str.split('|'):\n",
    "    for j in i :\n",
    "        tags.append(j)\n",
    "\n",
    "dict_tags_idf = {i:tags.count(i) for i in tags if tags.count(i)>5 and i!=''}"
   ]
  },
  {
   "cell_type": "code",
   "execution_count": 10,
   "metadata": {},
   "outputs": [
    {
     "data": {
      "text/plain": [
       "125"
      ]
     },
     "execution_count": 10,
     "metadata": {},
     "output_type": "execute_result"
    }
   ],
   "source": [
    "len(sorted(dict_tags_idf.items(), key=lambda kv: kv[1]) )"
   ]
  },
  {
   "cell_type": "code",
   "execution_count": 11,
   "metadata": {},
   "outputs": [
    {
     "name": "stderr",
     "output_type": "stream",
     "text": [
      "/Users/akirichenko/anaconda3/lib/python3.6/site-packages/ipykernel_launcher.py:4: SettingWithCopyWarning: \n",
      "A value is trying to be set on a copy of a slice from a DataFrame.\n",
      "Try using .loc[row_indexer,col_indexer] = value instead\n",
      "\n",
      "See the caveats in the documentation: http://pandas.pydata.org/pandas-docs/stable/indexing.html#indexing-view-versus-copy\n",
      "  after removing the cwd from sys.path.\n"
     ]
    }
   ],
   "source": [
    "for i in dict_genres_idf:\n",
    "    movies_ratings_ml['tf_idf_'+i] = movies_ratings_ml.apply(lambda row: \n",
    "                                   (1/len(row['genres'].split('|')))*dict_genres_idf[i]\n",
    "                                   if i in row['genres'] else 0, axis=1)"
   ]
  },
  {
   "cell_type": "code",
   "execution_count": 12,
   "metadata": {
    "scrolled": true
   },
   "outputs": [],
   "source": [
    "for i in dict_tags_idf:\n",
    "    movies_ratings_ml['tf_idf_'+i] = movies_ratings_ml.apply(lambda row: \n",
    "                                   (1/len(row['tags'].split('|')))*dict_tags_idf[i]\n",
    "                                   if i in row['tags'] else 0, axis=1)"
   ]
  },
  {
   "cell_type": "markdown",
   "metadata": {},
   "source": [
    "## Формирование обучающей и тестовой выборки"
   ]
  },
  {
   "cell_type": "code",
   "execution_count": 13,
   "metadata": {},
   "outputs": [],
   "source": [
    "from sklearn.model_selection import train_test_split"
   ]
  },
  {
   "cell_type": "code",
   "execution_count": 23,
   "metadata": {},
   "outputs": [],
   "source": [
    "X = movies_ratings_ml.drop(columns=['genres', 'tags', 'TARGET'])\n",
    "y = movies_ratings_ml['TARGET']\n",
    "\n",
    "X_train, X_test, y_train, y_test = train_test_split(X, y, test_size=0.33, random_state=40)"
   ]
  },
  {
   "cell_type": "markdown",
   "metadata": {},
   "source": [
    "## Линейная регрессия для предсказания оценки пользователя"
   ]
  },
  {
   "cell_type": "markdown",
   "metadata": {},
   "source": [
    "Используем линейную регрессию, чтобы предсказать переменную - среднюю оценку пользователей (rating_average)"
   ]
  },
  {
   "cell_type": "code",
   "execution_count": 24,
   "metadata": {},
   "outputs": [],
   "source": [
    "from sklearn.linear_model import LinearRegression\n",
    "from sklearn.metrics import mean_squared_log_error, mean_squared_error"
   ]
  },
  {
   "cell_type": "code",
   "execution_count": 25,
   "metadata": {},
   "outputs": [
    {
     "data": {
      "text/plain": [
       "LinearRegression(copy_X=True, fit_intercept=True, n_jobs=None,\n",
       "         normalize=False)"
      ]
     },
     "execution_count": 25,
     "metadata": {},
     "output_type": "execute_result"
    }
   ],
   "source": [
    "model = LinearRegression()\n",
    "model.fit(X_train, y_train)"
   ]
  },
  {
   "cell_type": "code",
   "execution_count": 26,
   "metadata": {},
   "outputs": [],
   "source": [
    "predictions = model.predict(X_test)"
   ]
  },
  {
   "cell_type": "code",
   "execution_count": 27,
   "metadata": {},
   "outputs": [
    {
     "data": {
      "text/plain": [
       "0.00043280921256061"
      ]
     },
     "execution_count": 27,
     "metadata": {},
     "output_type": "execute_result"
    }
   ],
   "source": [
    "mean_squared_error(predictions, y_test)"
   ]
  },
  {
   "cell_type": "code",
   "execution_count": 28,
   "metadata": {},
   "outputs": [
    {
     "name": "stderr",
     "output_type": "stream",
     "text": [
      "/Users/akirichenko/anaconda3/lib/python3.6/site-packages/ipykernel_launcher.py:1: SettingWithCopyWarning: \n",
      "A value is trying to be set on a copy of a slice from a DataFrame.\n",
      "Try using .loc[row_indexer,col_indexer] = value instead\n",
      "\n",
      "See the caveats in the documentation: http://pandas.pydata.org/pandas-docs/stable/indexing.html#indexing-view-versus-copy\n",
      "  \"\"\"Entry point for launching an IPython kernel.\n"
     ]
    }
   ],
   "source": [
    "X_test['predictions'] = predictions"
   ]
  },
  {
   "cell_type": "code",
   "execution_count": 29,
   "metadata": {},
   "outputs": [
    {
     "data": {
      "text/html": [
       "<div>\n",
       "<style scoped>\n",
       "    .dataframe tbody tr th:only-of-type {\n",
       "        vertical-align: middle;\n",
       "    }\n",
       "\n",
       "    .dataframe tbody tr th {\n",
       "        vertical-align: top;\n",
       "    }\n",
       "\n",
       "    .dataframe thead th {\n",
       "        text-align: right;\n",
       "    }\n",
       "</style>\n",
       "<table border=\"1\" class=\"dataframe\">\n",
       "  <thead>\n",
       "    <tr style=\"text-align: right;\">\n",
       "      <th></th>\n",
       "      <th>movieId</th>\n",
       "      <th>predictions</th>\n",
       "      <th>title</th>\n",
       "    </tr>\n",
       "  </thead>\n",
       "  <tbody>\n",
       "    <tr>\n",
       "      <th>1807</th>\n",
       "      <td>1249</td>\n",
       "      <td>1.088243</td>\n",
       "      <td>Femme Nikita, La (Nikita) (1990)</td>\n",
       "    </tr>\n",
       "    <tr>\n",
       "      <th>103</th>\n",
       "      <td>1500</td>\n",
       "      <td>0.639525</td>\n",
       "      <td>Grosse Pointe Blank (1997)</td>\n",
       "    </tr>\n",
       "    <tr>\n",
       "      <th>2783</th>\n",
       "      <td>527</td>\n",
       "      <td>0.516407</td>\n",
       "      <td>Schindler's List (1993)</td>\n",
       "    </tr>\n",
       "    <tr>\n",
       "      <th>1198</th>\n",
       "      <td>589</td>\n",
       "      <td>0.513280</td>\n",
       "      <td>Terminator 2: Judgment Day (1991)</td>\n",
       "    </tr>\n",
       "    <tr>\n",
       "      <th>1629</th>\n",
       "      <td>1</td>\n",
       "      <td>0.493288</td>\n",
       "      <td>Toy Story (1995)</td>\n",
       "    </tr>\n",
       "    <tr>\n",
       "      <th>1279</th>\n",
       "      <td>47</td>\n",
       "      <td>0.488050</td>\n",
       "      <td>Seven (a.k.a. Se7en) (1995)</td>\n",
       "    </tr>\n",
       "    <tr>\n",
       "      <th>1384</th>\n",
       "      <td>4993</td>\n",
       "      <td>0.451633</td>\n",
       "      <td>Lord of the Rings: The Fellowship of the Ring,...</td>\n",
       "    </tr>\n",
       "    <tr>\n",
       "      <th>2955</th>\n",
       "      <td>858</td>\n",
       "      <td>0.446663</td>\n",
       "      <td>Godfather, The (1972)</td>\n",
       "    </tr>\n",
       "    <tr>\n",
       "      <th>3198</th>\n",
       "      <td>2762</td>\n",
       "      <td>0.434717</td>\n",
       "      <td>Sixth Sense, The (1999)</td>\n",
       "    </tr>\n",
       "    <tr>\n",
       "      <th>2972</th>\n",
       "      <td>2028</td>\n",
       "      <td>0.434114</td>\n",
       "      <td>Saving Private Ryan (1998)</td>\n",
       "    </tr>\n",
       "    <tr>\n",
       "      <th>719</th>\n",
       "      <td>5952</td>\n",
       "      <td>0.429665</td>\n",
       "      <td>Lord of the Rings: The Two Towers, The (2002)</td>\n",
       "    </tr>\n",
       "    <tr>\n",
       "      <th>712</th>\n",
       "      <td>588</td>\n",
       "      <td>0.412601</td>\n",
       "      <td>Aladdin (1992)</td>\n",
       "    </tr>\n",
       "    <tr>\n",
       "      <th>76</th>\n",
       "      <td>608</td>\n",
       "      <td>0.412249</td>\n",
       "      <td>Fargo (1996)</td>\n",
       "    </tr>\n",
       "    <tr>\n",
       "      <th>2752</th>\n",
       "      <td>590</td>\n",
       "      <td>0.378304</td>\n",
       "      <td>Dances with Wolves (1990)</td>\n",
       "    </tr>\n",
       "    <tr>\n",
       "      <th>317</th>\n",
       "      <td>648</td>\n",
       "      <td>0.370131</td>\n",
       "      <td>Mission: Impossible (1996)</td>\n",
       "    </tr>\n",
       "    <tr>\n",
       "      <th>1026</th>\n",
       "      <td>344</td>\n",
       "      <td>0.368323</td>\n",
       "      <td>Ace Ventura: Pet Detective (1994)</td>\n",
       "    </tr>\n",
       "    <tr>\n",
       "      <th>2540</th>\n",
       "      <td>4226</td>\n",
       "      <td>0.367130</td>\n",
       "      <td>Memento (2000)</td>\n",
       "    </tr>\n",
       "    <tr>\n",
       "      <th>2789</th>\n",
       "      <td>58559</td>\n",
       "      <td>0.350686</td>\n",
       "      <td>Dark Knight, The (2008)</td>\n",
       "    </tr>\n",
       "    <tr>\n",
       "      <th>2387</th>\n",
       "      <td>6539</td>\n",
       "      <td>0.339596</td>\n",
       "      <td>Pirates of the Caribbean: The Curse of the Bla...</td>\n",
       "    </tr>\n",
       "    <tr>\n",
       "      <th>2480</th>\n",
       "      <td>165</td>\n",
       "      <td>0.329260</td>\n",
       "      <td>Die Hard: With a Vengeance (1995)</td>\n",
       "    </tr>\n",
       "  </tbody>\n",
       "</table>\n",
       "</div>"
      ],
      "text/plain": [
       "      movieId  predictions                                              title\n",
       "1807     1249     1.088243                   Femme Nikita, La (Nikita) (1990)\n",
       "103      1500     0.639525                         Grosse Pointe Blank (1997)\n",
       "2783      527     0.516407                            Schindler's List (1993)\n",
       "1198      589     0.513280                  Terminator 2: Judgment Day (1991)\n",
       "1629        1     0.493288                                   Toy Story (1995)\n",
       "1279       47     0.488050                        Seven (a.k.a. Se7en) (1995)\n",
       "1384     4993     0.451633  Lord of the Rings: The Fellowship of the Ring,...\n",
       "2955      858     0.446663                              Godfather, The (1972)\n",
       "3198     2762     0.434717                            Sixth Sense, The (1999)\n",
       "2972     2028     0.434114                         Saving Private Ryan (1998)\n",
       "719      5952     0.429665      Lord of the Rings: The Two Towers, The (2002)\n",
       "712       588     0.412601                                     Aladdin (1992)\n",
       "76        608     0.412249                                       Fargo (1996)\n",
       "2752      590     0.378304                          Dances with Wolves (1990)\n",
       "317       648     0.370131                         Mission: Impossible (1996)\n",
       "1026      344     0.368323                  Ace Ventura: Pet Detective (1994)\n",
       "2540     4226     0.367130                                     Memento (2000)\n",
       "2789    58559     0.350686                            Dark Knight, The (2008)\n",
       "2387     6539     0.339596  Pirates of the Caribbean: The Curse of the Bla...\n",
       "2480      165     0.329260                  Die Hard: With a Vengeance (1995)"
      ]
     },
     "execution_count": 29,
     "metadata": {},
     "output_type": "execute_result"
    }
   ],
   "source": [
    "results = X_test.merge(movies, how='left', on='movieId')[['movieId', 'predictions', 'title']]\n",
    "results.sort_values('predictions', ascending=False).head(20)"
   ]
  },
  {
   "cell_type": "code",
   "execution_count": null,
   "metadata": {},
   "outputs": [],
   "source": []
  }
 ],
 "metadata": {
  "kernelspec": {
   "display_name": "Python 3",
   "language": "python",
   "name": "python3"
  },
  "language_info": {
   "codemirror_mode": {
    "name": "ipython",
    "version": 3
   },
   "file_extension": ".py",
   "mimetype": "text/x-python",
   "name": "python",
   "nbconvert_exporter": "python",
   "pygments_lexer": "ipython3",
   "version": "3.6.6"
  }
 },
 "nbformat": 4,
 "nbformat_minor": 2
}
