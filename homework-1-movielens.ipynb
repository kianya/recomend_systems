{
 "cells": [
  {
   "cell_type": "markdown",
   "metadata": {},
   "source": [
    "# Домашняя работа 1. Рекомендации на основе содержания"
   ]
  },
  {
   "cell_type": "markdown",
   "metadata": {},
   "source": [
    "- Использовать dataset MovieLens\n",
    "- Построить рекомендации (регрессия, предсказываем оценку) на фичах:\n",
    " - TF-IDF на тегах и жанрах\n",
    " - Средние оценки (+ median, variance, etc.) пользователя и фильма\n",
    "- Оценить RMSE на тестовой выборке"
   ]
  },
  {
   "cell_type": "code",
   "execution_count": 1,
   "metadata": {},
   "outputs": [],
   "source": [
    "import pandas as pd\n",
    "import numpy as np\n",
    "\n",
    "from sklearn.feature_extraction.text import TfidfTransformer, CountVectorizer\n",
    "from sklearn.neighbors import NearestNeighbors\n",
    "\n",
    "%matplotlib inline"
   ]
  },
  {
   "cell_type": "code",
   "execution_count": 2,
   "metadata": {},
   "outputs": [],
   "source": [
    "links = pd.read_csv('../lecture-1/ml-latest-small/links.csv')\n",
    "movies = pd.read_csv('../lecture-1/ml-latest-small/movies.csv')\n",
    "ratings = pd.read_csv('../lecture-1/ml-latest-small/ratings.csv')\n",
    "tags = pd.read_csv('../lecture-1/ml-latest-small/tags.csv')"
   ]
  },
  {
   "cell_type": "markdown",
   "metadata": {},
   "source": [
    "## Формирование обучающей выборки для рекоммендаций"
   ]
  },
  {
   "cell_type": "markdown",
   "metadata": {},
   "source": [
    "TF (term frequency — частота слова) — отношение числа вхождений некоторого слова к общему числу слов документа. Таким образом, оценивается важность слова $ t_{i} $ в пределах отдельного документа.\n",
    "\n",
    "$${\\displaystyle \\mathrm {tf} (t,d)={\\frac {n_{t}}{\\sum _{k}n_{k}}}},$$ где ${\\displaystyle n_{t}}$ есть число вхождений слова ${\\displaystyle t}$ в документ, а в знаменателе — общее число слов в данном документе.\n",
    "\n",
    "\n",
    "IDF (inverse document frequency — обратная частота документа) — инверсия частоты, с которой некоторое слово встречается в документах коллекции. Основоположником данной концепции является Карен Спарк Джонс. Учёт IDF уменьшает вес широкоупотребительных слов. Для каждого уникального слова в пределах конкретной коллекции документов существует только одно значение IDF.\n",
    "\n",
    "$${\\mathrm {idf} (t,D)=\\log {\\frac {|D|}{|\\{\\,d_{i}\\in D\\mid t\\in d_{i}\\,\\}|}}}$$ ,\n",
    "где\n",
    "\n",
    "|D| — число документов в коллекции;\n",
    "${\\displaystyle |\\{\\,d_{i}\\in D\\mid t\\in d_{i}\\,\\}|}$ — число документов из коллекции  D, в которых встречается t (когда ${\\displaystyle n_{t}\\neq 0}$)."
   ]
  },
  {
   "cell_type": "code",
   "execution_count": 3,
   "metadata": {},
   "outputs": [],
   "source": [
    "# Добавляем в датасет теги для обработки информации\n",
    "movies_with_tags = movies.join(tags.groupby('movieId').apply(lambda x: \"|\".join(x['tag'])).rename('tags'),\n",
    "            on='movieId', how='left', sort=False)\n",
    "movies_with_tags = movies_with_tags.fillna('')"
   ]
  },
  {
   "cell_type": "code",
   "execution_count": 4,
   "metadata": {},
   "outputs": [],
   "source": [
    "movie_count_raitings = movies[['movieId']].join(ratings.groupby('movieId')[['userId']].count(), on='movieId')"
   ]
  },
  {
   "cell_type": "code",
   "execution_count": 5,
   "metadata": {},
   "outputs": [],
   "source": [
    "# Средние оценки\n",
    "df_ratings = ratings.groupby('movieId').agg({'userId': np.count_nonzero, \n",
    "                                'rating': [np.median, np.var, np.average]})\n",
    "df_ratings.columns=['userid_count', 'rating_median', 'rating_var', 'rating_average']\n",
    "\n",
    "movies_ratings = movies_with_tags.join(df_ratings, on='movieId', how='left', sort=False)\n",
    "movies_ratings = movies_ratings.fillna(0)"
   ]
  },
  {
   "cell_type": "code",
   "execution_count": 6,
   "metadata": {},
   "outputs": [],
   "source": [
    "movies_ratings['norm_raiting'] = movies_ratings.apply(lambda row: (row['rating_average'])\n",
    "                             /(movies_ratings['rating_average'].max() - movies_ratings['rating_average'].min())\n",
    "                 , axis=1)\n",
    "movies_ratings['norm_userid'] = movies_ratings.apply(lambda row: (row['userid_count'])\n",
    "                             /(movies_ratings['userid_count'].max() - movies_ratings['userid_count'].min())\n",
    "                 , axis=1)\n",
    "movies_ratings['TARGET'] = movies_ratings['norm_userid'] * movies_ratings['norm_raiting']"
   ]
  },
  {
   "cell_type": "code",
   "execution_count": 7,
   "metadata": {},
   "outputs": [],
   "source": [
    "movies_ratings_ml = movies_ratings[['movieId', 'genres', 'tags', 'userid_count', 'TARGET']]"
   ]
  },
  {
   "cell_type": "code",
   "execution_count": 8,
   "metadata": {},
   "outputs": [],
   "source": [
    "genres = []\n",
    "for i in movies_ratings_ml.genres.str.split('|'):\n",
    "    for j in i:\n",
    "        genres.append(j)\n",
    "\n",
    "dict_genres_idf = {i:np.log(len(movies_ratings_ml)/genres.count(i)) for i in genres}"
   ]
  },
  {
   "cell_type": "code",
   "execution_count": 9,
   "metadata": {},
   "outputs": [],
   "source": [
    "# Выберем только те тэги, которые встречаются больше 5 раз\n",
    "tags = []\n",
    "for i in movies_ratings_ml[(movies_ratings_ml.tags.isna()==False)].tags.str.split('|'):\n",
    "    for j in i :\n",
    "        tags.append(j)\n",
    "\n",
    "dict_tags_idf = {i:tags.count(i) for i in tags if tags.count(i)>5 and i!=''}"
   ]
  },
  {
   "cell_type": "code",
   "execution_count": 10,
   "metadata": {},
   "outputs": [
    {
     "data": {
      "text/plain": [
       "125"
      ]
     },
     "execution_count": 10,
     "metadata": {},
     "output_type": "execute_result"
    }
   ],
   "source": [
    "len(sorted(dict_tags_idf.items(), key=lambda kv: kv[1]) )"
   ]
  },
  {
   "cell_type": "code",
   "execution_count": 11,
   "metadata": {},
   "outputs": [
    {
     "name": "stderr",
     "output_type": "stream",
     "text": [
      "/Users/akirichenko/anaconda3/lib/python3.6/site-packages/ipykernel_launcher.py:4: SettingWithCopyWarning: \n",
      "A value is trying to be set on a copy of a slice from a DataFrame.\n",
      "Try using .loc[row_indexer,col_indexer] = value instead\n",
      "\n",
      "See the caveats in the documentation: http://pandas.pydata.org/pandas-docs/stable/indexing.html#indexing-view-versus-copy\n",
      "  after removing the cwd from sys.path.\n"
     ]
    }
   ],
   "source": [
    "for i in dict_genres_idf:\n",
    "    movies_ratings_ml['tf_idf_'+i] = movies_ratings_ml.apply(lambda row: \n",
    "                                   (1/len(row['genres'].split('|')))*dict_genres_idf[i]\n",
    "                                   if i in row['genres'] else 0, axis=1)"
   ]
  },
  {
   "cell_type": "code",
   "execution_count": 12,
   "metadata": {
    "scrolled": true
   },
   "outputs": [],
   "source": [
    "for i in dict_tags_idf:\n",
    "    movies_ratings_ml['tf_idf_'+i] = movies_ratings_ml.apply(lambda row: \n",
    "                                   (1/len(row['tags'].split('|')))*dict_tags_idf[i]\n",
    "                                   if i in row['tags'] else 0, axis=1)"
   ]
  },
  {
   "cell_type": "markdown",
   "metadata": {},
   "source": [
    "## Формирование обучающей и тестовой выборки"
   ]
  },
  {
   "cell_type": "code",
   "execution_count": 13,
   "metadata": {},
   "outputs": [],
   "source": [
    "from sklearn.model_selection import train_test_split"
   ]
  },
  {
   "cell_type": "code",
   "execution_count": 30,
   "metadata": {},
   "outputs": [],
   "source": [
    "X = movies_ratings_ml.drop(columns=['genres', 'tags', 'TARGET'])\n",
    "y = movies_ratings_ml['TARGET']\n",
    "\n",
    "X_train, X_test, y_train, y_test = train_test_split(X, y, test_size=0.33, random_state=4)"
   ]
  },
  {
   "cell_type": "markdown",
   "metadata": {},
   "source": [
    "## Линейная регрессия для предсказания оценки пользователя"
   ]
  },
  {
   "cell_type": "markdown",
   "metadata": {},
   "source": [
    "Используем линейную регрессию, чтобы предсказать переменную - среднюю оценку пользователей (rating_average)"
   ]
  },
  {
   "cell_type": "code",
   "execution_count": 31,
   "metadata": {},
   "outputs": [],
   "source": [
    "from sklearn.linear_model import LinearRegression\n",
    "from sklearn.metrics import mean_squared_log_error, mean_squared_error"
   ]
  },
  {
   "cell_type": "code",
   "execution_count": 32,
   "metadata": {},
   "outputs": [
    {
     "data": {
      "text/plain": [
       "LinearRegression(copy_X=True, fit_intercept=True, n_jobs=None,\n",
       "         normalize=False)"
      ]
     },
     "execution_count": 32,
     "metadata": {},
     "output_type": "execute_result"
    }
   ],
   "source": [
    "model = LinearRegression()\n",
    "model.fit(X_train, y_train)"
   ]
  },
  {
   "cell_type": "code",
   "execution_count": 33,
   "metadata": {},
   "outputs": [],
   "source": [
    "predictions = model.predict(X_test)"
   ]
  },
  {
   "cell_type": "code",
   "execution_count": 34,
   "metadata": {},
   "outputs": [
    {
     "data": {
      "text/plain": [
       "4.0691487649457206e-05"
      ]
     },
     "execution_count": 34,
     "metadata": {},
     "output_type": "execute_result"
    }
   ],
   "source": [
    "mean_squared_error(predictions, y_test)"
   ]
  },
  {
   "cell_type": "code",
   "execution_count": 35,
   "metadata": {},
   "outputs": [
    {
     "name": "stderr",
     "output_type": "stream",
     "text": [
      "/Users/akirichenko/anaconda3/lib/python3.6/site-packages/ipykernel_launcher.py:1: SettingWithCopyWarning: \n",
      "A value is trying to be set on a copy of a slice from a DataFrame.\n",
      "Try using .loc[row_indexer,col_indexer] = value instead\n",
      "\n",
      "See the caveats in the documentation: http://pandas.pydata.org/pandas-docs/stable/indexing.html#indexing-view-versus-copy\n",
      "  \"\"\"Entry point for launching an IPython kernel.\n"
     ]
    }
   ],
   "source": [
    "X_test['predictions'] = predictions"
   ]
  },
  {
   "cell_type": "code",
   "execution_count": 36,
   "metadata": {},
   "outputs": [
    {
     "data": {
      "text/html": [
       "<div>\n",
       "<style scoped>\n",
       "    .dataframe tbody tr th:only-of-type {\n",
       "        vertical-align: middle;\n",
       "    }\n",
       "\n",
       "    .dataframe tbody tr th {\n",
       "        vertical-align: top;\n",
       "    }\n",
       "\n",
       "    .dataframe thead th {\n",
       "        text-align: right;\n",
       "    }\n",
       "</style>\n",
       "<table border=\"1\" class=\"dataframe\">\n",
       "  <thead>\n",
       "    <tr style=\"text-align: right;\">\n",
       "      <th></th>\n",
       "      <th>movieId</th>\n",
       "      <th>predictions</th>\n",
       "      <th>title</th>\n",
       "    </tr>\n",
       "  </thead>\n",
       "  <tbody>\n",
       "    <tr>\n",
       "      <th>2344</th>\n",
       "      <td>356</td>\n",
       "      <td>0.760598</td>\n",
       "      <td>Forrest Gump (1994)</td>\n",
       "    </tr>\n",
       "    <tr>\n",
       "      <th>3210</th>\n",
       "      <td>2571</td>\n",
       "      <td>0.747612</td>\n",
       "      <td>Matrix, The (1999)</td>\n",
       "    </tr>\n",
       "    <tr>\n",
       "      <th>2038</th>\n",
       "      <td>318</td>\n",
       "      <td>0.725079</td>\n",
       "      <td>Shawshank Redemption, The (1994)</td>\n",
       "    </tr>\n",
       "    <tr>\n",
       "      <th>1201</th>\n",
       "      <td>593</td>\n",
       "      <td>0.642262</td>\n",
       "      <td>Silence of the Lambs, The (1991)</td>\n",
       "    </tr>\n",
       "    <tr>\n",
       "      <th>1748</th>\n",
       "      <td>110</td>\n",
       "      <td>0.545664</td>\n",
       "      <td>Braveheart (1995)</td>\n",
       "    </tr>\n",
       "    <tr>\n",
       "      <th>2517</th>\n",
       "      <td>480</td>\n",
       "      <td>0.539450</td>\n",
       "      <td>Jurassic Park (1993)</td>\n",
       "    </tr>\n",
       "    <tr>\n",
       "      <th>863</th>\n",
       "      <td>589</td>\n",
       "      <td>0.507731</td>\n",
       "      <td>Terminator 2: Judgment Day (1991)</td>\n",
       "    </tr>\n",
       "    <tr>\n",
       "      <th>622</th>\n",
       "      <td>47</td>\n",
       "      <td>0.500407</td>\n",
       "      <td>Seven (a.k.a. Se7en) (1995)</td>\n",
       "    </tr>\n",
       "    <tr>\n",
       "      <th>2494</th>\n",
       "      <td>2858</td>\n",
       "      <td>0.464661</td>\n",
       "      <td>American Beauty (1999)</td>\n",
       "    </tr>\n",
       "    <tr>\n",
       "      <th>781</th>\n",
       "      <td>858</td>\n",
       "      <td>0.457741</td>\n",
       "      <td>Godfather, The (1972)</td>\n",
       "    </tr>\n",
       "    <tr>\n",
       "      <th>1223</th>\n",
       "      <td>592</td>\n",
       "      <td>0.412358</td>\n",
       "      <td>Batman (1989)</td>\n",
       "    </tr>\n",
       "    <tr>\n",
       "      <th>3114</th>\n",
       "      <td>380</td>\n",
       "      <td>0.402849</td>\n",
       "      <td>True Lies (1994)</td>\n",
       "    </tr>\n",
       "    <tr>\n",
       "      <th>3024</th>\n",
       "      <td>590</td>\n",
       "      <td>0.373589</td>\n",
       "      <td>Dances with Wolves (1990)</td>\n",
       "    </tr>\n",
       "    <tr>\n",
       "      <th>1540</th>\n",
       "      <td>367</td>\n",
       "      <td>0.355482</td>\n",
       "      <td>Mask, The (1994)</td>\n",
       "    </tr>\n",
       "    <tr>\n",
       "      <th>1951</th>\n",
       "      <td>58559</td>\n",
       "      <td>0.337840</td>\n",
       "      <td>Dark Knight, The (2008)</td>\n",
       "    </tr>\n",
       "    <tr>\n",
       "      <th>2976</th>\n",
       "      <td>595</td>\n",
       "      <td>0.330105</td>\n",
       "      <td>Beauty and the Beast (1991)</td>\n",
       "    </tr>\n",
       "    <tr>\n",
       "      <th>2536</th>\n",
       "      <td>500</td>\n",
       "      <td>0.328062</td>\n",
       "      <td>Mrs. Doubtfire (1993)</td>\n",
       "    </tr>\n",
       "    <tr>\n",
       "      <th>3091</th>\n",
       "      <td>1197</td>\n",
       "      <td>0.320713</td>\n",
       "      <td>Princess Bride, The (1987)</td>\n",
       "    </tr>\n",
       "    <tr>\n",
       "      <th>2634</th>\n",
       "      <td>1214</td>\n",
       "      <td>0.320561</td>\n",
       "      <td>Alien (1979)</td>\n",
       "    </tr>\n",
       "    <tr>\n",
       "      <th>2473</th>\n",
       "      <td>2628</td>\n",
       "      <td>0.315484</td>\n",
       "      <td>Star Wars: Episode I - The Phantom Menace (1999)</td>\n",
       "    </tr>\n",
       "  </tbody>\n",
       "</table>\n",
       "</div>"
      ],
      "text/plain": [
       "      movieId  predictions                                             title\n",
       "2344      356     0.760598                               Forrest Gump (1994)\n",
       "3210     2571     0.747612                                Matrix, The (1999)\n",
       "2038      318     0.725079                  Shawshank Redemption, The (1994)\n",
       "1201      593     0.642262                  Silence of the Lambs, The (1991)\n",
       "1748      110     0.545664                                 Braveheart (1995)\n",
       "2517      480     0.539450                              Jurassic Park (1993)\n",
       "863       589     0.507731                 Terminator 2: Judgment Day (1991)\n",
       "622        47     0.500407                       Seven (a.k.a. Se7en) (1995)\n",
       "2494     2858     0.464661                            American Beauty (1999)\n",
       "781       858     0.457741                             Godfather, The (1972)\n",
       "1223      592     0.412358                                     Batman (1989)\n",
       "3114      380     0.402849                                  True Lies (1994)\n",
       "3024      590     0.373589                         Dances with Wolves (1990)\n",
       "1540      367     0.355482                                  Mask, The (1994)\n",
       "1951    58559     0.337840                           Dark Knight, The (2008)\n",
       "2976      595     0.330105                       Beauty and the Beast (1991)\n",
       "2536      500     0.328062                             Mrs. Doubtfire (1993)\n",
       "3091     1197     0.320713                        Princess Bride, The (1987)\n",
       "2634     1214     0.320561                                      Alien (1979)\n",
       "2473     2628     0.315484  Star Wars: Episode I - The Phantom Menace (1999)"
      ]
     },
     "execution_count": 36,
     "metadata": {},
     "output_type": "execute_result"
    }
   ],
   "source": [
    "results = X_test.merge(movies, how='left', on='movieId')[['movieId', 'predictions', 'title']]\n",
    "results.sort_values('predictions', ascending=False).head(20)"
   ]
  },
  {
   "cell_type": "code",
   "execution_count": null,
   "metadata": {},
   "outputs": [],
   "source": []
  }
 ],
 "metadata": {
  "kernelspec": {
   "display_name": "Python 3",
   "language": "python",
   "name": "python3"
  },
  "language_info": {
   "codemirror_mode": {
    "name": "ipython",
    "version": 3
   },
   "file_extension": ".py",
   "mimetype": "text/x-python",
   "name": "python",
   "nbconvert_exporter": "python",
   "pygments_lexer": "ipython3",
   "version": "3.6.6"
  }
 },
 "nbformat": 4,
 "nbformat_minor": 2
}
