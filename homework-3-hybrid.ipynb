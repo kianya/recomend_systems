{
 "cells": [
  {
   "cell_type": "markdown",
   "metadata": {},
   "source": [
    "# Домашняя работа 3. Гибридные рекомендательные системы"
   ]
  },
  {
   "cell_type": "markdown",
   "metadata": {},
   "source": [
    "Датасет ml-latest\n",
    " - Вспомнить подходы, которые мы разбирали\n",
    " - Выбрать понравившийся подход к гибридным системам\n",
    " - Написать свою\n",
    "\n",
    "Решением будет ссылка на гитхаб с готовым ноутбуком"
   ]
  },
  {
   "cell_type": "markdown",
   "metadata": {},
   "source": [
    "## Импорт библиотек"
   ]
  },
  {
   "cell_type": "code",
   "execution_count": 26,
   "metadata": {},
   "outputs": [],
   "source": [
    "import pandas as pd\n",
    "import numpy as np\n",
    "\n",
    "from tqdm import tqdm, tqdm_notebook\n",
    "    \n",
    "import numpy as np\n",
    "\n",
    "# Модели\n",
    "from sklearn.model_selection import train_test_split\n",
    "from sklearn.linear_model import LinearRegression, Lasso, Ridge\n",
    "from sklearn.metrics import mean_squared_log_error, mean_squared_error\n",
    "\n",
    "%matplotlib inline"
   ]
  },
  {
   "cell_type": "markdown",
   "metadata": {},
   "source": [
    "## Загрузка данных"
   ]
  },
  {
   "cell_type": "code",
   "execution_count": 2,
   "metadata": {},
   "outputs": [],
   "source": [
    "movies = pd.read_csv('../data/ml-latest-small/movies.csv', )\n",
    "links = pd.read_csv('../data/ml-latest-small/links.csv')\n",
    "tags = pd.read_csv('../data/ml-latest-small/tags.csv')\n",
    "ratings = pd.read_csv('../data/ml-latest-small/ratings.csv',)"
   ]
  },
  {
   "cell_type": "markdown",
   "metadata": {},
   "source": [
    "## Построение гибридной рекомендательной системы\n",
    "\n",
    " - Холодный старт (до 5 оценок) - рекомендуем наиболее популярные фильмы\n",
    " - Теплый старт (от 5 до 10 оценок) - рекомендуем фильмы на основе сожержания со стекингом\n",
    " - Горячий старт (от 10 до бесконечности оценок) - коллаборативная фильтрация с блендингом (Item, User based)"
   ]
  },
  {
   "cell_type": "markdown",
   "metadata": {},
   "source": [
    "##### Холодный старт - наиболее популярные фильмы"
   ]
  },
  {
   "cell_type": "code",
   "execution_count": 3,
   "metadata": {},
   "outputs": [
    {
     "data": {
      "text/html": [
       "<div>\n",
       "<style scoped>\n",
       "    .dataframe tbody tr th:only-of-type {\n",
       "        vertical-align: middle;\n",
       "    }\n",
       "\n",
       "    .dataframe tbody tr th {\n",
       "        vertical-align: top;\n",
       "    }\n",
       "\n",
       "    .dataframe thead th {\n",
       "        text-align: right;\n",
       "    }\n",
       "</style>\n",
       "<table border=\"1\" class=\"dataframe\">\n",
       "  <thead>\n",
       "    <tr style=\"text-align: right;\">\n",
       "      <th></th>\n",
       "      <th>userid_count</th>\n",
       "      <th>movie_rating_median</th>\n",
       "      <th>movie_rating_var</th>\n",
       "      <th>movie_rating_average</th>\n",
       "    </tr>\n",
       "    <tr>\n",
       "      <th>movieId</th>\n",
       "      <th></th>\n",
       "      <th></th>\n",
       "      <th></th>\n",
       "      <th></th>\n",
       "    </tr>\n",
       "  </thead>\n",
       "  <tbody>\n",
       "    <tr>\n",
       "      <th>1</th>\n",
       "      <td>215</td>\n",
       "      <td>4.0</td>\n",
       "      <td>0.696990</td>\n",
       "      <td>3.920930</td>\n",
       "    </tr>\n",
       "    <tr>\n",
       "      <th>2</th>\n",
       "      <td>110</td>\n",
       "      <td>3.5</td>\n",
       "      <td>0.777419</td>\n",
       "      <td>3.431818</td>\n",
       "    </tr>\n",
       "    <tr>\n",
       "      <th>3</th>\n",
       "      <td>52</td>\n",
       "      <td>3.0</td>\n",
       "      <td>1.112651</td>\n",
       "      <td>3.259615</td>\n",
       "    </tr>\n",
       "    <tr>\n",
       "      <th>4</th>\n",
       "      <td>7</td>\n",
       "      <td>3.0</td>\n",
       "      <td>0.726190</td>\n",
       "      <td>2.357143</td>\n",
       "    </tr>\n",
       "    <tr>\n",
       "      <th>5</th>\n",
       "      <td>49</td>\n",
       "      <td>3.0</td>\n",
       "      <td>0.822917</td>\n",
       "      <td>3.071429</td>\n",
       "    </tr>\n",
       "  </tbody>\n",
       "</table>\n",
       "</div>"
      ],
      "text/plain": [
       "         userid_count  movie_rating_median  movie_rating_var  \\\n",
       "movieId                                                        \n",
       "1                 215                  4.0          0.696990   \n",
       "2                 110                  3.5          0.777419   \n",
       "3                  52                  3.0          1.112651   \n",
       "4                   7                  3.0          0.726190   \n",
       "5                  49                  3.0          0.822917   \n",
       "\n",
       "         movie_rating_average  \n",
       "movieId                        \n",
       "1                    3.920930  \n",
       "2                    3.431818  \n",
       "3                    3.259615  \n",
       "4                    2.357143  \n",
       "5                    3.071429  "
      ]
     },
     "execution_count": 3,
     "metadata": {},
     "output_type": "execute_result"
    }
   ],
   "source": [
    "# Рекомендательная система для холодного старта\n",
    "movies_ratings = ratings.groupby('movieId').agg({'userId': np.count_nonzero, \n",
    "                                'rating': [np.median, np.var, np.average]})\n",
    "movies_ratings.columns=['userid_count', 'movie_rating_median', 'movie_rating_var', 'movie_rating_average']\n",
    "movies_ratings.head()"
   ]
  },
  {
   "cell_type": "code",
   "execution_count": 4,
   "metadata": {},
   "outputs": [],
   "source": [
    "# Нормируем количество оценок пользователей и рейтинг фильмов\n",
    "movies_ratings['norm_movie_raiting'] = movies_ratings.apply(lambda row: (row['movie_rating_average'])\n",
    "                             /(movies_ratings['movie_rating_average'].max() \n",
    "                                   - movies_ratings['movie_rating_average'].min())\n",
    "                 , axis=1)\n",
    "movies_ratings['norm_userid_count'] = movies_ratings.apply(lambda row: (row['userid_count'])\n",
    "                             /(movies_ratings['userid_count'].max() - movies_ratings['userid_count'].min())\n",
    "                 , axis=1)\n",
    "# Популярность фильма = нормированный райтинг * нормированное количество оценок\n",
    "movies_ratings['popularity'] = movies_ratings['norm_userid_count'] * movies_ratings['norm_movie_raiting']\n",
    "movies_popularity = movies_ratings.merge(movies, on='movieId', how='left', sort=False)[['title', 'genres', 'popularity']]"
   ]
  },
  {
   "cell_type": "code",
   "execution_count": 5,
   "metadata": {},
   "outputs": [],
   "source": [
    "def cold_start(userId):\n",
    "    movies = movies_popularity.sort_values('popularity', ascending=False)[['movieId', 'title', 'popularity']].head(10)\n",
    "    return movies"
   ]
  },
  {
   "cell_type": "markdown",
   "metadata": {},
   "source": [
    "#### Теплый старт - рекомендация на основе содержания"
   ]
  },
  {
   "cell_type": "markdown",
   "metadata": {},
   "source": [
    "###### Сформируем следующие признаки, для того чтобы сделать Content-bases рекомендации:\n",
    "    1) TF-IDF метрика на жанрах и тегах\n",
    "    2) Средняя оценка пользователя и фильма\n",
    "    3) Медианная оценка пользователя и фильма\n",
    "    4) Дисперсия оценки пользователя и фильма\n",
    "    5) Количество оценок пользователя и фильма\n",
    "    \n",
    "Так же обогатим модель результатами **логистической регрессии** для оценки пользователя, \n",
    "после обучим алгоритм **KNN** на полученных данных    "
   ]
  },
  {
   "cell_type": "code",
   "execution_count": 6,
   "metadata": {},
   "outputs": [
    {
     "data": {
      "text/html": [
       "<div>\n",
       "<style scoped>\n",
       "    .dataframe tbody tr th:only-of-type {\n",
       "        vertical-align: middle;\n",
       "    }\n",
       "\n",
       "    .dataframe tbody tr th {\n",
       "        vertical-align: top;\n",
       "    }\n",
       "\n",
       "    .dataframe thead th {\n",
       "        text-align: right;\n",
       "    }\n",
       "</style>\n",
       "<table border=\"1\" class=\"dataframe\">\n",
       "  <thead>\n",
       "    <tr style=\"text-align: right;\">\n",
       "      <th></th>\n",
       "      <th>movieid_count</th>\n",
       "      <th>user_rating_median</th>\n",
       "      <th>user_rating_var</th>\n",
       "      <th>user_rating_average</th>\n",
       "    </tr>\n",
       "    <tr>\n",
       "      <th>userId</th>\n",
       "      <th></th>\n",
       "      <th></th>\n",
       "      <th></th>\n",
       "      <th></th>\n",
       "    </tr>\n",
       "  </thead>\n",
       "  <tbody>\n",
       "    <tr>\n",
       "      <th>1</th>\n",
       "      <td>232</td>\n",
       "      <td>5.0</td>\n",
       "      <td>0.640077</td>\n",
       "      <td>4.366379</td>\n",
       "    </tr>\n",
       "    <tr>\n",
       "      <th>2</th>\n",
       "      <td>29</td>\n",
       "      <td>4.0</td>\n",
       "      <td>0.649015</td>\n",
       "      <td>3.948276</td>\n",
       "    </tr>\n",
       "    <tr>\n",
       "      <th>3</th>\n",
       "      <td>39</td>\n",
       "      <td>0.5</td>\n",
       "      <td>4.370783</td>\n",
       "      <td>2.435897</td>\n",
       "    </tr>\n",
       "    <tr>\n",
       "      <th>4</th>\n",
       "      <td>216</td>\n",
       "      <td>4.0</td>\n",
       "      <td>1.727132</td>\n",
       "      <td>3.555556</td>\n",
       "    </tr>\n",
       "    <tr>\n",
       "      <th>5</th>\n",
       "      <td>44</td>\n",
       "      <td>4.0</td>\n",
       "      <td>0.980973</td>\n",
       "      <td>3.636364</td>\n",
       "    </tr>\n",
       "  </tbody>\n",
       "</table>\n",
       "</div>"
      ],
      "text/plain": [
       "        movieid_count  user_rating_median  user_rating_var  \\\n",
       "userId                                                       \n",
       "1                 232                 5.0         0.640077   \n",
       "2                  29                 4.0         0.649015   \n",
       "3                  39                 0.5         4.370783   \n",
       "4                 216                 4.0         1.727132   \n",
       "5                  44                 4.0         0.980973   \n",
       "\n",
       "        user_rating_average  \n",
       "userId                       \n",
       "1                  4.366379  \n",
       "2                  3.948276  \n",
       "3                  2.435897  \n",
       "4                  3.555556  \n",
       "5                  3.636364  "
      ]
     },
     "execution_count": 6,
     "metadata": {},
     "output_type": "execute_result"
    }
   ],
   "source": [
    "# Средняя оценка, медианное значение, дисперсия, количество оценок пользователей\n",
    "user_ratings = ratings.groupby('userId').agg({'movieId': np.count_nonzero, \n",
    "                                'rating': [np.median, np.var, np.average]}).head()\n",
    "user_ratings.columns=['movieid_count', 'user_rating_median', 'user_rating_var', 'user_rating_average']\n",
    "user_ratings.head()"
   ]
  },
  {
   "cell_type": "code",
   "execution_count": 7,
   "metadata": {},
   "outputs": [],
   "source": [
    "# Сгруппируем тэги для фильмов\n",
    "grouped_tags = tags.groupby('movieId').agg({'tag': [(lambda x: \"|\".join(x)), np.count_nonzero]})\n",
    "grouped_tags.columns=['all_tags', 'all_tags_count']\n",
    "\n",
    "# Сгруппируем тэги для фильмов по пользователями\n",
    "grouped_user_tags = tags.groupby(['movieId', 'userId'])\\\n",
    "                        .agg({'tag': [(lambda x: \"|\".join(x)), np.count_nonzero]})\n",
    "grouped_user_tags.columns=['user_tags', 'user_tags_count']"
   ]
  },
  {
   "cell_type": "code",
   "execution_count": 8,
   "metadata": {},
   "outputs": [
    {
     "data": {
      "text/html": [
       "<div>\n",
       "<style scoped>\n",
       "    .dataframe tbody tr th:only-of-type {\n",
       "        vertical-align: middle;\n",
       "    }\n",
       "\n",
       "    .dataframe tbody tr th {\n",
       "        vertical-align: top;\n",
       "    }\n",
       "\n",
       "    .dataframe thead th {\n",
       "        text-align: right;\n",
       "    }\n",
       "</style>\n",
       "<table border=\"1\" class=\"dataframe\">\n",
       "  <thead>\n",
       "    <tr style=\"text-align: right;\">\n",
       "      <th></th>\n",
       "      <th>movieId</th>\n",
       "      <th>title</th>\n",
       "      <th>genres</th>\n",
       "      <th>userId</th>\n",
       "      <th>rating</th>\n",
       "      <th>timestamp</th>\n",
       "      <th>all_tags</th>\n",
       "      <th>all_tags_count</th>\n",
       "      <th>userid_count</th>\n",
       "      <th>movie_rating_median</th>\n",
       "      <th>...</th>\n",
       "      <th>movie_rating_average</th>\n",
       "      <th>norm_movie_raiting</th>\n",
       "      <th>norm_userid_count</th>\n",
       "      <th>popularity</th>\n",
       "      <th>movieid_count</th>\n",
       "      <th>user_rating_median</th>\n",
       "      <th>user_rating_var</th>\n",
       "      <th>user_rating_average</th>\n",
       "      <th>user_tags</th>\n",
       "      <th>user_tags_count</th>\n",
       "    </tr>\n",
       "  </thead>\n",
       "  <tbody>\n",
       "    <tr>\n",
       "      <th>0</th>\n",
       "      <td>1</td>\n",
       "      <td>Toy Story (1995)</td>\n",
       "      <td>Adventure|Animation|Children|Comedy|Fantasy</td>\n",
       "      <td>1.0</td>\n",
       "      <td>4.0</td>\n",
       "      <td>9.649827e+08</td>\n",
       "      <td>pixar|pixar|fun</td>\n",
       "      <td>3.0</td>\n",
       "      <td>215.0</td>\n",
       "      <td>4.0</td>\n",
       "      <td>...</td>\n",
       "      <td>3.92093</td>\n",
       "      <td>0.871318</td>\n",
       "      <td>0.655488</td>\n",
       "      <td>0.571138</td>\n",
       "      <td>232.0</td>\n",
       "      <td>5.0</td>\n",
       "      <td>0.640077</td>\n",
       "      <td>4.366379</td>\n",
       "      <td></td>\n",
       "      <td>0.0</td>\n",
       "    </tr>\n",
       "    <tr>\n",
       "      <th>1</th>\n",
       "      <td>1</td>\n",
       "      <td>Toy Story (1995)</td>\n",
       "      <td>Adventure|Animation|Children|Comedy|Fantasy</td>\n",
       "      <td>5.0</td>\n",
       "      <td>4.0</td>\n",
       "      <td>8.474350e+08</td>\n",
       "      <td>pixar|pixar|fun</td>\n",
       "      <td>3.0</td>\n",
       "      <td>215.0</td>\n",
       "      <td>4.0</td>\n",
       "      <td>...</td>\n",
       "      <td>3.92093</td>\n",
       "      <td>0.871318</td>\n",
       "      <td>0.655488</td>\n",
       "      <td>0.571138</td>\n",
       "      <td>44.0</td>\n",
       "      <td>4.0</td>\n",
       "      <td>0.980973</td>\n",
       "      <td>3.636364</td>\n",
       "      <td></td>\n",
       "      <td>0.0</td>\n",
       "    </tr>\n",
       "    <tr>\n",
       "      <th>2</th>\n",
       "      <td>1</td>\n",
       "      <td>Toy Story (1995)</td>\n",
       "      <td>Adventure|Animation|Children|Comedy|Fantasy</td>\n",
       "      <td>7.0</td>\n",
       "      <td>4.5</td>\n",
       "      <td>1.106636e+09</td>\n",
       "      <td>pixar|pixar|fun</td>\n",
       "      <td>3.0</td>\n",
       "      <td>215.0</td>\n",
       "      <td>4.0</td>\n",
       "      <td>...</td>\n",
       "      <td>3.92093</td>\n",
       "      <td>0.871318</td>\n",
       "      <td>0.655488</td>\n",
       "      <td>0.571138</td>\n",
       "      <td>0.0</td>\n",
       "      <td>0.0</td>\n",
       "      <td>0.000000</td>\n",
       "      <td>0.000000</td>\n",
       "      <td></td>\n",
       "      <td>0.0</td>\n",
       "    </tr>\n",
       "    <tr>\n",
       "      <th>3</th>\n",
       "      <td>1</td>\n",
       "      <td>Toy Story (1995)</td>\n",
       "      <td>Adventure|Animation|Children|Comedy|Fantasy</td>\n",
       "      <td>15.0</td>\n",
       "      <td>2.5</td>\n",
       "      <td>1.510578e+09</td>\n",
       "      <td>pixar|pixar|fun</td>\n",
       "      <td>3.0</td>\n",
       "      <td>215.0</td>\n",
       "      <td>4.0</td>\n",
       "      <td>...</td>\n",
       "      <td>3.92093</td>\n",
       "      <td>0.871318</td>\n",
       "      <td>0.655488</td>\n",
       "      <td>0.571138</td>\n",
       "      <td>0.0</td>\n",
       "      <td>0.0</td>\n",
       "      <td>0.000000</td>\n",
       "      <td>0.000000</td>\n",
       "      <td></td>\n",
       "      <td>0.0</td>\n",
       "    </tr>\n",
       "    <tr>\n",
       "      <th>4</th>\n",
       "      <td>1</td>\n",
       "      <td>Toy Story (1995)</td>\n",
       "      <td>Adventure|Animation|Children|Comedy|Fantasy</td>\n",
       "      <td>17.0</td>\n",
       "      <td>4.5</td>\n",
       "      <td>1.305696e+09</td>\n",
       "      <td>pixar|pixar|fun</td>\n",
       "      <td>3.0</td>\n",
       "      <td>215.0</td>\n",
       "      <td>4.0</td>\n",
       "      <td>...</td>\n",
       "      <td>3.92093</td>\n",
       "      <td>0.871318</td>\n",
       "      <td>0.655488</td>\n",
       "      <td>0.571138</td>\n",
       "      <td>0.0</td>\n",
       "      <td>0.0</td>\n",
       "      <td>0.000000</td>\n",
       "      <td>0.000000</td>\n",
       "      <td></td>\n",
       "      <td>0.0</td>\n",
       "    </tr>\n",
       "  </tbody>\n",
       "</table>\n",
       "<p>5 rows × 21 columns</p>\n",
       "</div>"
      ],
      "text/plain": [
       "   movieId             title                                       genres  \\\n",
       "0        1  Toy Story (1995)  Adventure|Animation|Children|Comedy|Fantasy   \n",
       "1        1  Toy Story (1995)  Adventure|Animation|Children|Comedy|Fantasy   \n",
       "2        1  Toy Story (1995)  Adventure|Animation|Children|Comedy|Fantasy   \n",
       "3        1  Toy Story (1995)  Adventure|Animation|Children|Comedy|Fantasy   \n",
       "4        1  Toy Story (1995)  Adventure|Animation|Children|Comedy|Fantasy   \n",
       "\n",
       "   userId  rating     timestamp         all_tags  all_tags_count  \\\n",
       "0     1.0     4.0  9.649827e+08  pixar|pixar|fun             3.0   \n",
       "1     5.0     4.0  8.474350e+08  pixar|pixar|fun             3.0   \n",
       "2     7.0     4.5  1.106636e+09  pixar|pixar|fun             3.0   \n",
       "3    15.0     2.5  1.510578e+09  pixar|pixar|fun             3.0   \n",
       "4    17.0     4.5  1.305696e+09  pixar|pixar|fun             3.0   \n",
       "\n",
       "   userid_count  movie_rating_median       ...        movie_rating_average  \\\n",
       "0         215.0                  4.0       ...                     3.92093   \n",
       "1         215.0                  4.0       ...                     3.92093   \n",
       "2         215.0                  4.0       ...                     3.92093   \n",
       "3         215.0                  4.0       ...                     3.92093   \n",
       "4         215.0                  4.0       ...                     3.92093   \n",
       "\n",
       "   norm_movie_raiting  norm_userid_count  popularity  movieid_count  \\\n",
       "0            0.871318           0.655488    0.571138          232.0   \n",
       "1            0.871318           0.655488    0.571138           44.0   \n",
       "2            0.871318           0.655488    0.571138            0.0   \n",
       "3            0.871318           0.655488    0.571138            0.0   \n",
       "4            0.871318           0.655488    0.571138            0.0   \n",
       "\n",
       "   user_rating_median  user_rating_var  user_rating_average  user_tags  \\\n",
       "0                 5.0         0.640077             4.366379              \n",
       "1                 4.0         0.980973             3.636364              \n",
       "2                 0.0         0.000000             0.000000              \n",
       "3                 0.0         0.000000             0.000000              \n",
       "4                 0.0         0.000000             0.000000              \n",
       "\n",
       "  user_tags_count  \n",
       "0             0.0  \n",
       "1             0.0  \n",
       "2             0.0  \n",
       "3             0.0  \n",
       "4             0.0  \n",
       "\n",
       "[5 rows x 21 columns]"
      ]
     },
     "execution_count": 8,
     "metadata": {},
     "output_type": "execute_result"
    }
   ],
   "source": [
    "# Датасет фильмов и оценок пользователей к ним\n",
    "movies_ratings_tags = movies.merge(ratings, on='movieId', how='left', sort=False)\\\n",
    "                       .merge(grouped_tags, on='movieId', how='left', sort=False)\\\n",
    "                       .merge(movies_ratings, on='movieId', how='left', sort=False)\\\n",
    "                       .merge(user_ratings, on='userId', how='left', sort=False)\\\n",
    "                       .merge(grouped_user_tags, on=['movieId', 'userId'], how='left', sort=False)\n",
    "\n",
    "# Посмотрим на получившийся датасет\n",
    "movies_ratings_tags['all_tags'] = movies_ratings_tags['all_tags'].fillna('')\n",
    "movies_ratings_tags['user_tags'] = movies_ratings_tags['user_tags'].fillna('')\n",
    "movies_ratings_tags = movies_ratings_tags.fillna(0)\n",
    "movies_ratings_tags.head(5)"
   ]
  },
  {
   "cell_type": "code",
   "execution_count": 9,
   "metadata": {},
   "outputs": [],
   "source": [
    "# Функция для TF-IDF метрики\n",
    "def tf_idf(row, value, dictionary):\n",
    "    return (1/len(row.split('|')))*dictionary[value] if value in row else 0"
   ]
  },
  {
   "cell_type": "code",
   "execution_count": 10,
   "metadata": {},
   "outputs": [],
   "source": [
    "# Сформируем список жанров:\n",
    "genres_list = []\n",
    "for i in movies.genres.str.split('|'):\n",
    "    for j in i:\n",
    "        genres_list.append(j)\n",
    "        \n",
    "### Итоговый словарь жанров:\n",
    "genres_dict = {i:np.log(len(movies)/genres_list.count(i)) for i in genres_list}"
   ]
  },
  {
   "cell_type": "code",
   "execution_count": 11,
   "metadata": {},
   "outputs": [
    {
     "name": "stderr",
     "output_type": "stream",
     "text": [
      "100%|██████████| 20/20 [00:25<00:00,  1.26s/it]\n"
     ]
    }
   ],
   "source": [
    "# Добавим новые фичи в датасет (TF-IDF на жанрах):\n",
    "for i in tqdm(genres_dict):\n",
    "    movies_ratings_tags['tf_idf_'+i] = movies_ratings_tags.apply(lambda row: tf_idf(row['genres'], i, genres_dict), axis=1)"
   ]
  },
  {
   "cell_type": "code",
   "execution_count": 12,
   "metadata": {},
   "outputs": [],
   "source": [
    "# Сформируем список тэгов\n",
    "tags_list = []\n",
    "for i in grouped_tags.all_tags.str.split('|'):\n",
    "    for j in i :\n",
    "        tags_list.append(j)\n",
    "        \n",
    "# Итоговый словарь тэгов\n",
    "tags_dict = {i:np.log(len(movies)/tags_list.count(i)) for i in tags_list if tags_list.count(i)>10 and i!=''}"
   ]
  },
  {
   "cell_type": "code",
   "execution_count": 13,
   "metadata": {
    "scrolled": true
   },
   "outputs": [
    {
     "name": "stderr",
     "output_type": "stream",
     "text": [
      "100%|██████████| 46/46 [02:37<00:00,  3.41s/it]\n"
     ]
    }
   ],
   "source": [
    "# Добавим новые фичи в датасет (TF-IDF на тэгах для пользователя и фильма):\n",
    "for i in tqdm(tags_dict):\n",
    "    movies_ratings_tags['tf_idf_'+i] = movies_ratings_tags\\\n",
    "                    .apply(lambda row: tf_idf(row['all_tags'], i, tags_dict), axis=1)\n",
    "    movies_ratings_tags['user_tf_idf_'+i] = movies_ratings_tags\\\n",
    "                    .apply(lambda row: tf_idf(row['user_tags'], i, tags_dict), axis=1)"
   ]
  },
  {
   "cell_type": "code",
   "execution_count": 14,
   "metadata": {},
   "outputs": [],
   "source": [
    "X = movies_ratings_tags.drop(['timestamp', 'movieId', 'title', 'genres', 'userId', \n",
    "                              'rating', 'all_tags', 'user_tags'], axis=1)\n",
    "y = movies_ratings_tags['rating']"
   ]
  },
  {
   "cell_type": "code",
   "execution_count": 16,
   "metadata": {},
   "outputs": [],
   "source": [
    "X_train, X_test, y_train, y_test = train_test_split(X, y, test_size=0.33, random_state=4)"
   ]
  },
  {
   "cell_type": "markdown",
   "metadata": {},
   "source": [
    "## Обучение (регрессия)"
   ]
  },
  {
   "cell_type": "code",
   "execution_count": 34,
   "metadata": {},
   "outputs": [],
   "source": [
    "?Ridge"
   ]
  },
  {
   "cell_type": "code",
   "execution_count": 59,
   "metadata": {},
   "outputs": [
    {
     "data": {
      "text/plain": [
       "0.3010366681761203"
      ]
     },
     "execution_count": 59,
     "metadata": {},
     "output_type": "execute_result"
    }
   ],
   "source": [
    "model = Ridge(alpha=0.0001, solver='saga')\n",
    "model.fit(X_train, y_train)\n",
    "model.score(X_test, y_test)"
   ]
  },
  {
   "cell_type": "code",
   "execution_count": 62,
   "metadata": {},
   "outputs": [
    {
     "data": {
      "text/plain": [
       "0.30235808880304527"
      ]
     },
     "execution_count": 62,
     "metadata": {},
     "output_type": "execute_result"
    }
   ],
   "source": [
    "model = Lasso(alpha=0.0001)\n",
    "model.fit(X_train, y_train)\n",
    "model.score(X_test, y_test)"
   ]
  },
  {
   "cell_type": "code",
   "execution_count": 60,
   "metadata": {},
   "outputs": [
    {
     "data": {
      "text/plain": [
       "0.7591416609479026"
      ]
     },
     "execution_count": 60,
     "metadata": {},
     "output_type": "execute_result"
    }
   ],
   "source": [
    "predictions = model.predict(X_test)\n",
    "mean_squared_error(predictions, y_test)"
   ]
  },
  {
   "cell_type": "markdown",
   "metadata": {},
   "source": [
    "#### Горячий старт - коллаборативная фильтрация"
   ]
  },
  {
   "cell_type": "code",
   "execution_count": null,
   "metadata": {},
   "outputs": [],
   "source": []
  },
  {
   "cell_type": "code",
   "execution_count": null,
   "metadata": {},
   "outputs": [],
   "source": []
  }
 ],
 "metadata": {
  "kernelspec": {
   "display_name": "Python 3",
   "language": "python",
   "name": "python3"
  },
  "language_info": {
   "codemirror_mode": {
    "name": "ipython",
    "version": 3
   },
   "file_extension": ".py",
   "mimetype": "text/x-python",
   "name": "python",
   "nbconvert_exporter": "python",
   "pygments_lexer": "ipython3",
   "version": "3.6.6"
  }
 },
 "nbformat": 4,
 "nbformat_minor": 2
}
