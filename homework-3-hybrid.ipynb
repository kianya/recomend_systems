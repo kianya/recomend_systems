{
 "cells": [
  {
   "cell_type": "markdown",
   "metadata": {},
   "source": [
    "# Домашняя работа 3. Гибридные рекомендательные системы"
   ]
  },
  {
   "cell_type": "markdown",
   "metadata": {},
   "source": [
    "Датасет ml-latest\n",
    " - Вспомнить подходы, которые мы разбирали\n",
    " - Выбрать понравившийся подход к гибридным системам\n",
    " - Написать свою\n",
    "\n",
    "Решением будет ссылка на гитхаб с готовым ноутбуком"
   ]
  },
  {
   "cell_type": "markdown",
   "metadata": {},
   "source": [
    "## Импорт библиотек"
   ]
  },
  {
   "cell_type": "code",
   "execution_count": 1,
   "metadata": {},
   "outputs": [],
   "source": [
    "import pandas as pd\n",
    "import numpy as np\n",
    "\n",
    "from tqdm import tqdm, tqdm_notebook\n",
    "\n",
    "from sklearn.model_selection import train_test_split\n",
    "from sklearn.model_selection import GridSearchCV\n",
    "# Модели и метрики\n",
    "from sklearn.linear_model import HuberRegressor\n",
    "from sklearn.metrics import mean_squared_log_error, mean_squared_error\n",
    "from sklearn.preprocessing import normalize\n",
    "\n",
    "%matplotlib inline"
   ]
  },
  {
   "cell_type": "markdown",
   "metadata": {},
   "source": [
    "## Загрузка данных"
   ]
  },
  {
   "cell_type": "code",
   "execution_count": 2,
   "metadata": {},
   "outputs": [],
   "source": [
    "movies = pd.read_csv('../data/ml-latest-small/movies.csv', )\n",
    "links = pd.read_csv('../data/ml-latest-small/links.csv')\n",
    "tags = pd.read_csv('../data/ml-latest-small/tags.csv')\n",
    "ratings = pd.read_csv('../data/ml-latest-small/ratings.csv',)"
   ]
  },
  {
   "cell_type": "markdown",
   "metadata": {},
   "source": [
    "## Построение гибридной рекомендательной системы\n",
    "\n",
    " - Холодный старт (до 5 оценок) - рекомендуем наиболее популярные фильмы\n",
    " - Теплый старт (от 5 до 10 оценок) - рекомендуем фильмы на основе сожержания со стекингом\n",
    " - Горячий старт (от 10 до бесконечности оценок) - коллаборативная фильтрация с блендингом (Item, User based)"
   ]
  },
  {
   "cell_type": "markdown",
   "metadata": {},
   "source": [
    "##### Холодный старт - наиболее популярные фильмы"
   ]
  },
  {
   "cell_type": "code",
   "execution_count": null,
   "metadata": {},
   "outputs": [],
   "source": []
  },
  {
   "cell_type": "code",
   "execution_count": 3,
   "metadata": {},
   "outputs": [],
   "source": [
    "# Рекомендательная система для холодного старта\n",
    "movies_means = ratings.groupby('movieId').agg({'userId': np.count_nonzero, \n",
    "                                'rating': [np.median, np.var, np.average]})\n",
    "movies_means.columns=['userid_count', 'movie_rating_median', 'movie_rating_var', 'movie_rating_average']\n",
    "movies_means=movies_means.fillna(0)"
   ]
  },
  {
   "cell_type": "code",
   "execution_count": 4,
   "metadata": {},
   "outputs": [
    {
     "data": {
      "text/html": [
       "<div>\n",
       "<style scoped>\n",
       "    .dataframe tbody tr th:only-of-type {\n",
       "        vertical-align: middle;\n",
       "    }\n",
       "\n",
       "    .dataframe tbody tr th {\n",
       "        vertical-align: top;\n",
       "    }\n",
       "\n",
       "    .dataframe thead th {\n",
       "        text-align: right;\n",
       "    }\n",
       "</style>\n",
       "<table border=\"1\" class=\"dataframe\">\n",
       "  <thead>\n",
       "    <tr style=\"text-align: right;\">\n",
       "      <th></th>\n",
       "      <th>userid_count</th>\n",
       "      <th>movie_rating_median</th>\n",
       "      <th>movie_rating_var</th>\n",
       "      <th>movie_rating_average</th>\n",
       "      <th>movieId</th>\n",
       "    </tr>\n",
       "  </thead>\n",
       "  <tbody>\n",
       "    <tr>\n",
       "      <th>0</th>\n",
       "      <td>0.999656</td>\n",
       "      <td>0.018598</td>\n",
       "      <td>0.003241</td>\n",
       "      <td>0.018231</td>\n",
       "      <td>1</td>\n",
       "    </tr>\n",
       "    <tr>\n",
       "      <th>1</th>\n",
       "      <td>0.998984</td>\n",
       "      <td>0.031786</td>\n",
       "      <td>0.007060</td>\n",
       "      <td>0.031167</td>\n",
       "      <td>2</td>\n",
       "    </tr>\n",
       "    <tr>\n",
       "      <th>2</th>\n",
       "      <td>0.996164</td>\n",
       "      <td>0.057471</td>\n",
       "      <td>0.021315</td>\n",
       "      <td>0.062444</td>\n",
       "      <td>3</td>\n",
       "    </tr>\n",
       "    <tr>\n",
       "      <th>3</th>\n",
       "      <td>0.874430</td>\n",
       "      <td>0.374756</td>\n",
       "      <td>0.090715</td>\n",
       "      <td>0.294451</td>\n",
       "      <td>4</td>\n",
       "    </tr>\n",
       "    <tr>\n",
       "      <th>4</th>\n",
       "      <td>0.996044</td>\n",
       "      <td>0.060982</td>\n",
       "      <td>0.016728</td>\n",
       "      <td>0.062434</td>\n",
       "      <td>5</td>\n",
       "    </tr>\n",
       "  </tbody>\n",
       "</table>\n",
       "</div>"
      ],
      "text/plain": [
       "   userid_count  movie_rating_median  movie_rating_var  movie_rating_average  \\\n",
       "0      0.999656             0.018598          0.003241              0.018231   \n",
       "1      0.998984             0.031786          0.007060              0.031167   \n",
       "2      0.996164             0.057471          0.021315              0.062444   \n",
       "3      0.874430             0.374756          0.090715              0.294451   \n",
       "4      0.996044             0.060982          0.016728              0.062434   \n",
       "\n",
       "   movieId  \n",
       "0        1  \n",
       "1        2  \n",
       "2        3  \n",
       "3        4  \n",
       "4        5  "
      ]
     },
     "execution_count": 4,
     "metadata": {},
     "output_type": "execute_result"
    }
   ],
   "source": [
    "movies_means_normalize = pd.DataFrame(data=normalize(movies_means), columns=movies_means.columns)\n",
    "movies_means_normalize['movieId']=movies_means.index\n",
    "movies_means_normalize.head()"
   ]
  },
  {
   "cell_type": "code",
   "execution_count": 5,
   "metadata": {},
   "outputs": [],
   "source": [
    "# Нормируем количество оценок пользователей и рейтинг фильмов\n",
    "movies_popularity = movies_means\n",
    "\n",
    "# Популярность фильма = нормированный райтинг * нормированное количество оценок\n",
    "movies_popularity['popularity'] = movies_popularity['userid_count'] * movies_popularity['movie_rating_average']\n",
    "movies_popularity = movies_popularity.merge(movies, on='movieId', how='left', sort=False)[['movieId', 'title', 'genres', 'popularity']]"
   ]
  },
  {
   "cell_type": "code",
   "execution_count": 6,
   "metadata": {},
   "outputs": [],
   "source": [
    "def cold_start(userId):\n",
    "    movies = movies_popularity.sort_values('popularity', ascending=False)[['movieId', 'title', 'popularity']].head(10)\n",
    "    return movies"
   ]
  },
  {
   "cell_type": "code",
   "execution_count": 7,
   "metadata": {},
   "outputs": [
    {
     "data": {
      "text/html": [
       "<div>\n",
       "<style scoped>\n",
       "    .dataframe tbody tr th:only-of-type {\n",
       "        vertical-align: middle;\n",
       "    }\n",
       "\n",
       "    .dataframe tbody tr th {\n",
       "        vertical-align: top;\n",
       "    }\n",
       "\n",
       "    .dataframe thead th {\n",
       "        text-align: right;\n",
       "    }\n",
       "</style>\n",
       "<table border=\"1\" class=\"dataframe\">\n",
       "  <thead>\n",
       "    <tr style=\"text-align: right;\">\n",
       "      <th></th>\n",
       "      <th>movieId</th>\n",
       "      <th>title</th>\n",
       "      <th>popularity</th>\n",
       "    </tr>\n",
       "  </thead>\n",
       "  <tbody>\n",
       "    <tr>\n",
       "      <th>277</th>\n",
       "      <td>318</td>\n",
       "      <td>Shawshank Redemption, The (1994)</td>\n",
       "      <td>1404.0</td>\n",
       "    </tr>\n",
       "    <tr>\n",
       "      <th>314</th>\n",
       "      <td>356</td>\n",
       "      <td>Forrest Gump (1994)</td>\n",
       "      <td>1370.0</td>\n",
       "    </tr>\n",
       "    <tr>\n",
       "      <th>257</th>\n",
       "      <td>296</td>\n",
       "      <td>Pulp Fiction (1994)</td>\n",
       "      <td>1288.5</td>\n",
       "    </tr>\n",
       "    <tr>\n",
       "      <th>1938</th>\n",
       "      <td>2571</td>\n",
       "      <td>Matrix, The (1999)</td>\n",
       "      <td>1165.5</td>\n",
       "    </tr>\n",
       "    <tr>\n",
       "      <th>510</th>\n",
       "      <td>593</td>\n",
       "      <td>Silence of the Lambs, The (1991)</td>\n",
       "      <td>1161.0</td>\n",
       "    </tr>\n",
       "    <tr>\n",
       "      <th>224</th>\n",
       "      <td>260</td>\n",
       "      <td>Star Wars: Episode IV - A New Hope (1977)</td>\n",
       "      <td>1062.0</td>\n",
       "    </tr>\n",
       "    <tr>\n",
       "      <th>97</th>\n",
       "      <td>110</td>\n",
       "      <td>Braveheart (1995)</td>\n",
       "      <td>955.5</td>\n",
       "    </tr>\n",
       "    <tr>\n",
       "      <th>2224</th>\n",
       "      <td>2959</td>\n",
       "      <td>Fight Club (1999)</td>\n",
       "      <td>931.5</td>\n",
       "    </tr>\n",
       "    <tr>\n",
       "      <th>461</th>\n",
       "      <td>527</td>\n",
       "      <td>Schindler's List (1993)</td>\n",
       "      <td>929.5</td>\n",
       "    </tr>\n",
       "    <tr>\n",
       "      <th>418</th>\n",
       "      <td>480</td>\n",
       "      <td>Jurassic Park (1993)</td>\n",
       "      <td>892.5</td>\n",
       "    </tr>\n",
       "  </tbody>\n",
       "</table>\n",
       "</div>"
      ],
      "text/plain": [
       "      movieId                                      title  popularity\n",
       "277       318           Shawshank Redemption, The (1994)      1404.0\n",
       "314       356                        Forrest Gump (1994)      1370.0\n",
       "257       296                        Pulp Fiction (1994)      1288.5\n",
       "1938     2571                         Matrix, The (1999)      1165.5\n",
       "510       593           Silence of the Lambs, The (1991)      1161.0\n",
       "224       260  Star Wars: Episode IV - A New Hope (1977)      1062.0\n",
       "97        110                          Braveheart (1995)       955.5\n",
       "2224     2959                          Fight Club (1999)       931.5\n",
       "461       527                    Schindler's List (1993)       929.5\n",
       "418       480                       Jurassic Park (1993)       892.5"
      ]
     },
     "execution_count": 7,
     "metadata": {},
     "output_type": "execute_result"
    }
   ],
   "source": [
    "cold_start(100)"
   ]
  },
  {
   "cell_type": "markdown",
   "metadata": {},
   "source": [
    "#### Теплый старт - рекомендация на основе содержания"
   ]
  },
  {
   "cell_type": "markdown",
   "metadata": {},
   "source": [
    "###### Сформируем следующие признаки, для того чтобы сделать Content-bases рекомендации:\n",
    "    1) TF-IDF метрика на жанрах и тегах\n",
    "    2) Средняя оценка пользователя и фильма\n",
    "    3) Медианная оценка пользователя и фильма\n",
    "    4) Дисперсия оценки пользователя и фильма\n",
    "    5) Количество оценок пользователя и фильма\n",
    "    \n",
    "Так же обогатим модель результатами **логистической регрессии** для оценки пользователя, \n",
    "после обучим алгоритм **KNN** на полученных данных. \n",
    "\n",
    "Для каждого пользователя будет формироваться **своя модель** на основе поставленных им оценок и тэгов."
   ]
  },
  {
   "cell_type": "code",
   "execution_count": 8,
   "metadata": {},
   "outputs": [],
   "source": [
    "# Сгруппируем тэги для фильмов\n",
    "grouped_tags = tags.groupby('movieId').agg({'tag': [(lambda x: \"|\".join(x)), np.count_nonzero]})\n",
    "grouped_tags.columns=['all_tags', 'all_tags_count']"
   ]
  },
  {
   "cell_type": "markdown",
   "metadata": {},
   "source": [
    "#### Формируем таблицу с фильмами"
   ]
  },
  {
   "cell_type": "code",
   "execution_count": 9,
   "metadata": {},
   "outputs": [],
   "source": [
    "# Функция для TF-IDF метрики\n",
    "def tf_idf(row, value, dictionary):\n",
    "    return (1/len(row.split('|')))*dictionary[value] if value in row else 0"
   ]
  },
  {
   "cell_type": "code",
   "execution_count": 10,
   "metadata": {},
   "outputs": [],
   "source": [
    "# Датасет фильмов и оценок пользователей к ним\n",
    "movies_with_tags = movies.merge(grouped_tags, on='movieId', how='left', sort=False)\\\n",
    "                                 .merge(movies_means_normalize, on='movieId', how='left', sort=False)\n",
    "movies_with_tags['all_tags'] = movies_with_tags['all_tags'].fillna('')\n",
    "movies_with_tags = movies_with_tags.fillna(0)"
   ]
  },
  {
   "cell_type": "code",
   "execution_count": 11,
   "metadata": {},
   "outputs": [],
   "source": [
    "# Сформируем список жанров:\n",
    "genres_list = []\n",
    "for i in movies.genres.str.split('|'):\n",
    "    for j in i:\n",
    "        genres_list.append(j)\n",
    "        \n",
    "### Итоговый словарь жанров:\n",
    "genres_dict = {i:np.log(len(movies)/genres_list.count(i)) for i in genres_list}"
   ]
  },
  {
   "cell_type": "code",
   "execution_count": 12,
   "metadata": {},
   "outputs": [
    {
     "name": "stderr",
     "output_type": "stream",
     "text": [
      "100%|██████████| 20/20 [00:02<00:00,  6.78it/s]\n"
     ]
    }
   ],
   "source": [
    "# Добавим новые фичи в датасет (TF-IDF на жанрах):\n",
    "for i in tqdm(genres_dict):\n",
    "    movies_with_tags['tf_idf_'+i] = movies_with_tags.apply(lambda row: tf_idf(row['genres'], i, genres_dict), axis=1)"
   ]
  },
  {
   "cell_type": "code",
   "execution_count": 13,
   "metadata": {},
   "outputs": [],
   "source": [
    "# Сформируем список тэгов\n",
    "tags_list = []\n",
    "for i in grouped_tags.all_tags.str.split('|'):\n",
    "    for j in i :\n",
    "        tags_list.append(j)\n",
    "        \n",
    "# Итоговый словарь тэгов\n",
    "tags_dict = {i:np.log(len(movies)/tags_list.count(i)) for i in tags_list if tags_list.count(i)>5 and i!=''}"
   ]
  },
  {
   "cell_type": "code",
   "execution_count": 14,
   "metadata": {
    "scrolled": true
   },
   "outputs": [
    {
     "name": "stderr",
     "output_type": "stream",
     "text": [
      "100%|██████████| 125/125 [00:22<00:00,  5.61it/s]\n"
     ]
    }
   ],
   "source": [
    "# Добавим новые фичи в датасет (TF-IDF на тэгах для пользователя и фильма):\n",
    "for i in tqdm(tags_dict):\n",
    "    movies_with_tags['tf_idf_'+i] = movies_with_tags\\\n",
    "                .apply(lambda row: tf_idf(row['all_tags'], i, tags_dict), axis=1)"
   ]
  },
  {
   "cell_type": "code",
   "execution_count": 15,
   "metadata": {},
   "outputs": [],
   "source": [
    "movies_tf_idf = movies_with_tags.drop(['genres', 'title', 'all_tags'], axis=1)"
   ]
  },
  {
   "cell_type": "markdown",
   "metadata": {},
   "source": [
    "##### Формируем таблицу с пользователями"
   ]
  },
  {
   "cell_type": "code",
   "execution_count": 16,
   "metadata": {
    "scrolled": false
   },
   "outputs": [],
   "source": [
    "# Средняя оценка, медианное значение, дисперсия, количество оценок пользователей\n",
    "users_mean = ratings.groupby('userId').agg({'movieId': np.count_nonzero, \n",
    "                                'rating': [np.median, np.var, np.average]})\n",
    "users_mean.columns=['movieid_count', 'user_rating_median', 'user_rating_var', 'user_rating_average']"
   ]
  },
  {
   "cell_type": "code",
   "execution_count": 17,
   "metadata": {},
   "outputs": [
    {
     "data": {
      "text/html": [
       "<div>\n",
       "<style scoped>\n",
       "    .dataframe tbody tr th:only-of-type {\n",
       "        vertical-align: middle;\n",
       "    }\n",
       "\n",
       "    .dataframe tbody tr th {\n",
       "        vertical-align: top;\n",
       "    }\n",
       "\n",
       "    .dataframe thead th {\n",
       "        text-align: right;\n",
       "    }\n",
       "</style>\n",
       "<table border=\"1\" class=\"dataframe\">\n",
       "  <thead>\n",
       "    <tr style=\"text-align: right;\">\n",
       "      <th></th>\n",
       "      <th>movieid_count</th>\n",
       "      <th>user_rating_median</th>\n",
       "      <th>user_rating_var</th>\n",
       "      <th>user_rating_average</th>\n",
       "      <th>userId</th>\n",
       "    </tr>\n",
       "  </thead>\n",
       "  <tbody>\n",
       "    <tr>\n",
       "      <th>0</th>\n",
       "      <td>0.999587</td>\n",
       "      <td>0.021543</td>\n",
       "      <td>0.002758</td>\n",
       "      <td>0.018813</td>\n",
       "      <td>1</td>\n",
       "    </tr>\n",
       "    <tr>\n",
       "      <th>1</th>\n",
       "      <td>0.981496</td>\n",
       "      <td>0.135379</td>\n",
       "      <td>0.021966</td>\n",
       "      <td>0.133628</td>\n",
       "      <td>2</td>\n",
       "    </tr>\n",
       "    <tr>\n",
       "      <th>2</th>\n",
       "      <td>0.991790</td>\n",
       "      <td>0.012715</td>\n",
       "      <td>0.111151</td>\n",
       "      <td>0.061946</td>\n",
       "      <td>3</td>\n",
       "    </tr>\n",
       "    <tr>\n",
       "      <th>3</th>\n",
       "      <td>0.999661</td>\n",
       "      <td>0.018512</td>\n",
       "      <td>0.007993</td>\n",
       "      <td>0.016455</td>\n",
       "      <td>4</td>\n",
       "    </tr>\n",
       "    <tr>\n",
       "      <th>4</th>\n",
       "      <td>0.992294</td>\n",
       "      <td>0.090209</td>\n",
       "      <td>0.022123</td>\n",
       "      <td>0.082008</td>\n",
       "      <td>5</td>\n",
       "    </tr>\n",
       "  </tbody>\n",
       "</table>\n",
       "</div>"
      ],
      "text/plain": [
       "   movieid_count  user_rating_median  user_rating_var  user_rating_average  \\\n",
       "0       0.999587            0.021543         0.002758             0.018813   \n",
       "1       0.981496            0.135379         0.021966             0.133628   \n",
       "2       0.991790            0.012715         0.111151             0.061946   \n",
       "3       0.999661            0.018512         0.007993             0.016455   \n",
       "4       0.992294            0.090209         0.022123             0.082008   \n",
       "\n",
       "   userId  \n",
       "0       1  \n",
       "1       2  \n",
       "2       3  \n",
       "3       4  \n",
       "4       5  "
      ]
     },
     "execution_count": 17,
     "metadata": {},
     "output_type": "execute_result"
    }
   ],
   "source": [
    "users_mean_normalize = pd.DataFrame(data=normalize(users_mean), columns=users_mean.columns)\n",
    "users_mean_normalize['userId']=users_mean.index\n",
    "users_mean_normalize.head()"
   ]
  },
  {
   "cell_type": "code",
   "execution_count": 18,
   "metadata": {},
   "outputs": [
    {
     "name": "stderr",
     "output_type": "stream",
     "text": [
      "100%|██████████| 20/20 [00:29<00:00,  1.46s/it]\n"
     ]
    }
   ],
   "source": [
    "# И посмотрим какие оценки в среднем пользователь ставит жанрам фильмов\n",
    "user_ratings = ratings.merge(movies, on='movieId', how='left', sort=False)[['userId', 'movieId', 'rating', 'genres']]\n",
    "for i in tqdm(genres_dict):\n",
    "    user_ratings['genre_'+i] = user_ratings.apply(lambda row: row['rating'] if i in row['genres'] else None,axis=1)\n",
    "    \n",
    "user_ratings = user_ratings.groupby('userId').mean().drop(['movieId', 'rating'], axis=1).fillna(0)"
   ]
  },
  {
   "cell_type": "code",
   "execution_count": 19,
   "metadata": {},
   "outputs": [],
   "source": [
    "users_values = users_mean_normalize.merge(user_ratings, on='userId', how='left', sort=False)"
   ]
  },
  {
   "cell_type": "code",
   "execution_count": 20,
   "metadata": {},
   "outputs": [
    {
     "data": {
      "text/html": [
       "<div>\n",
       "<style scoped>\n",
       "    .dataframe tbody tr th:only-of-type {\n",
       "        vertical-align: middle;\n",
       "    }\n",
       "\n",
       "    .dataframe tbody tr th {\n",
       "        vertical-align: top;\n",
       "    }\n",
       "\n",
       "    .dataframe thead th {\n",
       "        text-align: right;\n",
       "    }\n",
       "</style>\n",
       "<table border=\"1\" class=\"dataframe\">\n",
       "  <thead>\n",
       "    <tr style=\"text-align: right;\">\n",
       "      <th></th>\n",
       "      <th>movieid_count</th>\n",
       "      <th>user_rating_median</th>\n",
       "      <th>user_rating_var</th>\n",
       "      <th>user_rating_average</th>\n",
       "      <th>userId</th>\n",
       "      <th>genre_Adventure</th>\n",
       "      <th>genre_Animation</th>\n",
       "      <th>genre_Children</th>\n",
       "      <th>genre_Comedy</th>\n",
       "      <th>genre_Fantasy</th>\n",
       "      <th>...</th>\n",
       "      <th>genre_Horror</th>\n",
       "      <th>genre_Mystery</th>\n",
       "      <th>genre_Sci-Fi</th>\n",
       "      <th>genre_War</th>\n",
       "      <th>genre_Musical</th>\n",
       "      <th>genre_Documentary</th>\n",
       "      <th>genre_IMAX</th>\n",
       "      <th>genre_Western</th>\n",
       "      <th>genre_Film-Noir</th>\n",
       "      <th>genre_(no genres listed)</th>\n",
       "    </tr>\n",
       "  </thead>\n",
       "  <tbody>\n",
       "    <tr>\n",
       "      <th>0</th>\n",
       "      <td>0.999587</td>\n",
       "      <td>0.021543</td>\n",
       "      <td>0.002758</td>\n",
       "      <td>0.018813</td>\n",
       "      <td>1</td>\n",
       "      <td>4.388235</td>\n",
       "      <td>4.689655</td>\n",
       "      <td>4.547619</td>\n",
       "      <td>4.277108</td>\n",
       "      <td>4.297872</td>\n",
       "      <td>...</td>\n",
       "      <td>3.470588</td>\n",
       "      <td>4.166667</td>\n",
       "      <td>4.225</td>\n",
       "      <td>4.5</td>\n",
       "      <td>4.681818</td>\n",
       "      <td>0.000000</td>\n",
       "      <td>0.00</td>\n",
       "      <td>4.285714</td>\n",
       "      <td>5.0</td>\n",
       "      <td>0.0</td>\n",
       "    </tr>\n",
       "    <tr>\n",
       "      <th>1</th>\n",
       "      <td>0.981496</td>\n",
       "      <td>0.135379</td>\n",
       "      <td>0.021966</td>\n",
       "      <td>0.133628</td>\n",
       "      <td>2</td>\n",
       "      <td>4.166667</td>\n",
       "      <td>0.000000</td>\n",
       "      <td>0.000000</td>\n",
       "      <td>4.000000</td>\n",
       "      <td>0.000000</td>\n",
       "      <td>...</td>\n",
       "      <td>3.000000</td>\n",
       "      <td>4.000000</td>\n",
       "      <td>3.875</td>\n",
       "      <td>4.5</td>\n",
       "      <td>0.000000</td>\n",
       "      <td>4.333333</td>\n",
       "      <td>3.75</td>\n",
       "      <td>3.500000</td>\n",
       "      <td>0.0</td>\n",
       "      <td>0.0</td>\n",
       "    </tr>\n",
       "  </tbody>\n",
       "</table>\n",
       "<p>2 rows × 25 columns</p>\n",
       "</div>"
      ],
      "text/plain": [
       "   movieid_count  user_rating_median  user_rating_var  user_rating_average  \\\n",
       "0       0.999587            0.021543         0.002758             0.018813   \n",
       "1       0.981496            0.135379         0.021966             0.133628   \n",
       "\n",
       "   userId  genre_Adventure  genre_Animation  genre_Children  genre_Comedy  \\\n",
       "0       1         4.388235         4.689655        4.547619      4.277108   \n",
       "1       2         4.166667         0.000000        0.000000      4.000000   \n",
       "\n",
       "   genre_Fantasy            ...             genre_Horror  genre_Mystery  \\\n",
       "0       4.297872            ...                 3.470588       4.166667   \n",
       "1       0.000000            ...                 3.000000       4.000000   \n",
       "\n",
       "   genre_Sci-Fi  genre_War  genre_Musical  genre_Documentary  genre_IMAX  \\\n",
       "0         4.225        4.5       4.681818           0.000000        0.00   \n",
       "1         3.875        4.5       0.000000           4.333333        3.75   \n",
       "\n",
       "   genre_Western  genre_Film-Noir  genre_(no genres listed)  \n",
       "0       4.285714              5.0                       0.0  \n",
       "1       3.500000              0.0                       0.0  \n",
       "\n",
       "[2 rows x 25 columns]"
      ]
     },
     "execution_count": 20,
     "metadata": {},
     "output_type": "execute_result"
    }
   ],
   "source": [
    "users_values.head(2)"
   ]
  },
  {
   "cell_type": "markdown",
   "metadata": {},
   "source": [
    "##### Итоговый датасет для обучения"
   ]
  },
  {
   "cell_type": "code",
   "execution_count": 21,
   "metadata": {},
   "outputs": [],
   "source": [
    "movies_users = ratings.merge(users_values, on='userId', how='left', sort=False)\\\n",
    "                      .merge(movies_tf_idf, on='movieId', how='left', sort=False)\n",
    "\n",
    "data = movies_users.drop(['userId', 'movieId','timestamp'], axis=1)"
   ]
  },
  {
   "cell_type": "code",
   "execution_count": 22,
   "metadata": {},
   "outputs": [
    {
     "name": "stdout",
     "output_type": "stream",
     "text": [
      "<class 'pandas.core.frame.DataFrame'>\n",
      "Int64Index: 100836 entries, 0 to 100835\n",
      "Columns: 175 entries, rating to tf_idf_Magic\n",
      "dtypes: float64(175)\n",
      "memory usage: 135.4 MB\n"
     ]
    }
   ],
   "source": [
    "data.info()"
   ]
  },
  {
   "cell_type": "code",
   "execution_count": 23,
   "metadata": {},
   "outputs": [],
   "source": [
    "X = data.drop(['rating'], axis=1)\n",
    "y = data['rating']"
   ]
  },
  {
   "cell_type": "code",
   "execution_count": 24,
   "metadata": {},
   "outputs": [],
   "source": [
    "X_train, X_test, y_train, y_test = train_test_split(X, y, test_size=0.2, random_state=4)"
   ]
  },
  {
   "cell_type": "markdown",
   "metadata": {},
   "source": [
    "## Обучение \n",
    "#### 1. Huber-регрессия"
   ]
  },
  {
   "cell_type": "code",
   "execution_count": 25,
   "metadata": {},
   "outputs": [],
   "source": [
    "regr_model = HuberRegressor()\n",
    "epsilons = [4, 5]\n",
    "alphas =[0.0001, 0.001]\n",
    "\n",
    "regr_params = dict(epsilon=epsilons, alpha=alphas)\n",
    "\n",
    "regr_grid = GridSearchCV(regr_model, regr_params, cv=5, scoring='neg_mean_squared_error')"
   ]
  },
  {
   "cell_type": "code",
   "execution_count": 26,
   "metadata": {},
   "outputs": [
    {
     "data": {
      "text/plain": [
       "GridSearchCV(cv=5, error_score='raise-deprecating',\n",
       "       estimator=HuberRegressor(alpha=0.0001, epsilon=1.35, fit_intercept=True, max_iter=100,\n",
       "        tol=1e-05, warm_start=False),\n",
       "       fit_params=None, iid='warn', n_jobs=None,\n",
       "       param_grid={'epsilon': [4, 5], 'alpha': [0.0001, 0.001]},\n",
       "       pre_dispatch='2*n_jobs', refit=True, return_train_score='warn',\n",
       "       scoring='neg_mean_squared_error', verbose=0)"
      ]
     },
     "execution_count": 26,
     "metadata": {},
     "output_type": "execute_result"
    }
   ],
   "source": [
    "regr_grid.fit(X_train, y_train)"
   ]
  },
  {
   "cell_type": "code",
   "execution_count": 27,
   "metadata": {},
   "outputs": [
    {
     "data": {
      "text/plain": [
       "HuberRegressor(alpha=0.001, epsilon=5, fit_intercept=True, max_iter=100,\n",
       "        tol=1e-05, warm_start=False)"
      ]
     },
     "execution_count": 27,
     "metadata": {},
     "output_type": "execute_result"
    }
   ],
   "source": [
    "best_estimator = regr_grid.best_estimator_\n",
    "best_estimator"
   ]
  },
  {
   "cell_type": "code",
   "execution_count": 28,
   "metadata": {},
   "outputs": [
    {
     "data": {
      "text/plain": [
       "0.8129338792618208"
      ]
     },
     "execution_count": 28,
     "metadata": {},
     "output_type": "execute_result"
    }
   ],
   "source": [
    "predictions = best_estimator.predict(X_test)\n",
    "mean_squared_error(predictions, y_test)"
   ]
  },
  {
   "cell_type": "code",
   "execution_count": 29,
   "metadata": {},
   "outputs": [
    {
     "data": {
      "text/plain": [
       "array([3.76610137, 4.07404676, 3.84858635, ..., 3.2899016 , 2.89040975,\n",
       "       3.67551327])"
      ]
     },
     "execution_count": 29,
     "metadata": {},
     "output_type": "execute_result"
    }
   ],
   "source": [
    "predictions"
   ]
  },
  {
   "cell_type": "markdown",
   "metadata": {},
   "source": [
    "###### Формируем рекомендации для пользователей на теплом старте"
   ]
  },
  {
   "cell_type": "code",
   "execution_count": 30,
   "metadata": {},
   "outputs": [],
   "source": [
    "def warm_start(userId):\n",
    "    moviesids = ratings[(ratings.userId==1)]['movieId'].values\n",
    "    \n",
    "    movies_not_wathed = movies_tf_idf[(~movies.movieId.isin(moviesids))]\n",
    "    movies_not_wathed['key'] = 0\n",
    "    users = users_values[(users_values.userId==userId)]\n",
    "    users['key'] = 0\n",
    "    \n",
    "    movies_not_wathed = movies_not_wathed.merge(users, on='key', how='left')\n",
    "    data = movies_not_wathed.drop(['userId', 'movieId', 'key'], axis=1).fillna(0)\n",
    "    \n",
    "    result = movies_not_wathed[['movieId']].merge(movies, on='movieId', how='inner')\n",
    "    result['prediction'] = best_estimator.predict(data)\n",
    "    \n",
    "    return result.sort_values('prediction', ascending=False).head(10)"
   ]
  },
  {
   "cell_type": "code",
   "execution_count": 31,
   "metadata": {},
   "outputs": [
    {
     "name": "stderr",
     "output_type": "stream",
     "text": [
      "/Users/akirichenko/anaconda3/lib/python3.6/site-packages/ipykernel_launcher.py:5: SettingWithCopyWarning: \n",
      "A value is trying to be set on a copy of a slice from a DataFrame.\n",
      "Try using .loc[row_indexer,col_indexer] = value instead\n",
      "\n",
      "See the caveats in the documentation: http://pandas.pydata.org/pandas-docs/stable/indexing.html#indexing-view-versus-copy\n",
      "  \"\"\"\n",
      "/Users/akirichenko/anaconda3/lib/python3.6/site-packages/ipykernel_launcher.py:7: SettingWithCopyWarning: \n",
      "A value is trying to be set on a copy of a slice from a DataFrame.\n",
      "Try using .loc[row_indexer,col_indexer] = value instead\n",
      "\n",
      "See the caveats in the documentation: http://pandas.pydata.org/pandas-docs/stable/indexing.html#indexing-view-versus-copy\n",
      "  import sys\n"
     ]
    },
    {
     "data": {
      "text/html": [
       "<div>\n",
       "<style scoped>\n",
       "    .dataframe tbody tr th:only-of-type {\n",
       "        vertical-align: middle;\n",
       "    }\n",
       "\n",
       "    .dataframe tbody tr th {\n",
       "        vertical-align: top;\n",
       "    }\n",
       "\n",
       "    .dataframe thead th {\n",
       "        text-align: right;\n",
       "    }\n",
       "</style>\n",
       "<table border=\"1\" class=\"dataframe\">\n",
       "  <thead>\n",
       "    <tr style=\"text-align: right;\">\n",
       "      <th></th>\n",
       "      <th>movieId</th>\n",
       "      <th>title</th>\n",
       "      <th>genres</th>\n",
       "      <th>prediction</th>\n",
       "    </tr>\n",
       "  </thead>\n",
       "  <tbody>\n",
       "    <tr>\n",
       "      <th>660</th>\n",
       "      <td>924</td>\n",
       "      <td>2001: A Space Odyssey (1968)</td>\n",
       "      <td>Adventure|Drama|Sci-Fi</td>\n",
       "      <td>10.597331</td>\n",
       "    </tr>\n",
       "    <tr>\n",
       "      <th>4677</th>\n",
       "      <td>7361</td>\n",
       "      <td>Eternal Sunshine of the Spotless Mind (2004)</td>\n",
       "      <td>Drama|Romance|Sci-Fi</td>\n",
       "      <td>9.172502</td>\n",
       "    </tr>\n",
       "    <tr>\n",
       "      <th>238</th>\n",
       "      <td>293</td>\n",
       "      <td>Léon: The Professional (a.k.a. The Professiona...</td>\n",
       "      <td>Action|Crime|Drama|Thriller</td>\n",
       "      <td>9.166347</td>\n",
       "    </tr>\n",
       "    <tr>\n",
       "      <th>3331</th>\n",
       "      <td>4878</td>\n",
       "      <td>Donnie Darko (2001)</td>\n",
       "      <td>Drama|Mystery|Sci-Fi|Thriller</td>\n",
       "      <td>8.005288</td>\n",
       "    </tr>\n",
       "    <tr>\n",
       "      <th>7140</th>\n",
       "      <td>79132</td>\n",
       "      <td>Inception (2010)</td>\n",
       "      <td>Action|Crime|Drama|Mystery|Sci-Fi|Thriller|IMAX</td>\n",
       "      <td>7.449140</td>\n",
       "    </tr>\n",
       "    <tr>\n",
       "      <th>2856</th>\n",
       "      <td>4144</td>\n",
       "      <td>In the Mood For Love (Fa yeung nin wa) (2000)</td>\n",
       "      <td>Drama|Romance</td>\n",
       "      <td>5.875180</td>\n",
       "    </tr>\n",
       "    <tr>\n",
       "      <th>8683</th>\n",
       "      <td>135536</td>\n",
       "      <td>Suicide Squad (2016)</td>\n",
       "      <td>Action|Crime|Sci-Fi</td>\n",
       "      <td>5.735998</td>\n",
       "    </tr>\n",
       "    <tr>\n",
       "      <th>6980</th>\n",
       "      <td>72998</td>\n",
       "      <td>Avatar (2009)</td>\n",
       "      <td>Action|Adventure|Sci-Fi|IMAX</td>\n",
       "      <td>5.545115</td>\n",
       "    </tr>\n",
       "    <tr>\n",
       "      <th>2515</th>\n",
       "      <td>3676</td>\n",
       "      <td>Eraserhead (1977)</td>\n",
       "      <td>Drama|Horror</td>\n",
       "      <td>5.300437</td>\n",
       "    </tr>\n",
       "    <tr>\n",
       "      <th>1288</th>\n",
       "      <td>1921</td>\n",
       "      <td>Pi (1998)</td>\n",
       "      <td>Drama|Sci-Fi|Thriller</td>\n",
       "      <td>5.250983</td>\n",
       "    </tr>\n",
       "  </tbody>\n",
       "</table>\n",
       "</div>"
      ],
      "text/plain": [
       "      movieId                                              title  \\\n",
       "660       924                       2001: A Space Odyssey (1968)   \n",
       "4677     7361       Eternal Sunshine of the Spotless Mind (2004)   \n",
       "238       293  Léon: The Professional (a.k.a. The Professiona...   \n",
       "3331     4878                                Donnie Darko (2001)   \n",
       "7140    79132                                   Inception (2010)   \n",
       "2856     4144      In the Mood For Love (Fa yeung nin wa) (2000)   \n",
       "8683   135536                               Suicide Squad (2016)   \n",
       "6980    72998                                      Avatar (2009)   \n",
       "2515     3676                                  Eraserhead (1977)   \n",
       "1288     1921                                          Pi (1998)   \n",
       "\n",
       "                                               genres  prediction  \n",
       "660                            Adventure|Drama|Sci-Fi   10.597331  \n",
       "4677                             Drama|Romance|Sci-Fi    9.172502  \n",
       "238                       Action|Crime|Drama|Thriller    9.166347  \n",
       "3331                    Drama|Mystery|Sci-Fi|Thriller    8.005288  \n",
       "7140  Action|Crime|Drama|Mystery|Sci-Fi|Thriller|IMAX    7.449140  \n",
       "2856                                    Drama|Romance    5.875180  \n",
       "8683                              Action|Crime|Sci-Fi    5.735998  \n",
       "6980                     Action|Adventure|Sci-Fi|IMAX    5.545115  \n",
       "2515                                     Drama|Horror    5.300437  \n",
       "1288                            Drama|Sci-Fi|Thriller    5.250983  "
      ]
     },
     "execution_count": 31,
     "metadata": {},
     "output_type": "execute_result"
    }
   ],
   "source": [
    "warm_start(2)"
   ]
  },
  {
   "cell_type": "markdown",
   "metadata": {},
   "source": [
    "#### Горячий старт - SVD на Surprise (Коллаборативная фильтрация)\n",
    "\n",
    "Для обучения модели будем использовать тех пользователей, которые поствили больше 10 оценок"
   ]
  },
  {
   "cell_type": "code",
   "execution_count": 37,
   "metadata": {},
   "outputs": [],
   "source": [
    "from surprise import SVD\n",
    "from surprise import Dataset\n",
    "from surprise import accuracy\n",
    "from surprise import Reader\n",
    "\n",
    "from surprise.model_selection import train_test_split\n",
    "from surprise.model_selection import GridSearchCV"
   ]
  },
  {
   "cell_type": "code",
   "execution_count": 38,
   "metadata": {},
   "outputs": [],
   "source": [
    "movies_and_ratings = ratings.merge(movies, on='movieId', how='left')\n",
    "dataset = pd.DataFrame({\n",
    "    'uid': movies_and_ratings.userId,\n",
    "    'iid': movies_and_ratings.movieId,\n",
    "    'rating': movies_and_ratings.rating\n",
    "})"
   ]
  },
  {
   "cell_type": "code",
   "execution_count": 39,
   "metadata": {},
   "outputs": [],
   "source": [
    "reader = Reader(rating_scale=(0.5, 5.0))\n",
    "data = Dataset.load_from_df(dataset, reader)"
   ]
  },
  {
   "cell_type": "code",
   "execution_count": 45,
   "metadata": {},
   "outputs": [],
   "source": [
    "# Установим параметры алгоритма"
   ]
  },
  {
   "cell_type": "code",
   "execution_count": 46,
   "metadata": {},
   "outputs": [],
   "source": [
    "trainset, testset = train_test_split(data, test_size=.25)"
   ]
  },
  {
   "cell_type": "code",
   "execution_count": 63,
   "metadata": {},
   "outputs": [],
   "source": [
    "##### Use grid search for model selecting:\n",
    "n_factorss=[25, 50, 60, 75, 100]\n",
    "reg_alls = [0.005, 0.02,  0.05, 0.1, 0.5]\n",
    "\n",
    "param_grid = { 'n_factors': n_factorss,\n",
    "               'reg_all': reg_alls }\n",
    "\n",
    "gs = GridSearchCV(SVD, param_grid, measures=['rmse'], cv=3)\n",
    "\n",
    "gs.fit(data)"
   ]
  },
  {
   "cell_type": "code",
   "execution_count": 82,
   "metadata": {},
   "outputs": [
    {
     "data": {
      "text/plain": [
       "{'rmse': 0.8741976715761056}"
      ]
     },
     "execution_count": 82,
     "metadata": {},
     "output_type": "execute_result"
    }
   ],
   "source": [
    "gs.best_score"
   ]
  },
  {
   "cell_type": "code",
   "execution_count": 79,
   "metadata": {},
   "outputs": [
    {
     "data": {
      "text/plain": [
       "<surprise.prediction_algorithms.matrix_factorization.SVD at 0x10e79beb8>"
      ]
     },
     "execution_count": 79,
     "metadata": {},
     "output_type": "execute_result"
    }
   ],
   "source": [
    "algo = gs.best_estimator['rmse']\n",
    "algo.fit(trainset)"
   ]
  },
  {
   "cell_type": "code",
   "execution_count": 81,
   "metadata": {},
   "outputs": [
    {
     "name": "stdout",
     "output_type": "stream",
     "text": [
      "RMSE: 0.8680\n"
     ]
    },
    {
     "data": {
      "text/plain": [
       "0.8679577927573275"
      ]
     },
     "execution_count": 81,
     "metadata": {},
     "output_type": "execute_result"
    }
   ],
   "source": [
    "predictions = algo.test(testset)\n",
    "accuracy.rmse(predictions)"
   ]
  },
  {
   "cell_type": "code",
   "execution_count": 83,
   "metadata": {},
   "outputs": [],
   "source": [
    "# Подбираем 10 фильмов для известного пользователя\n",
    "def hot_start(uid):\n",
    "    df = pd.DataFrame(columns=['userId', 'movieId', 'title', 'rating_pred'])\n",
    "    uid_movies = movies_and_ratings[(movies_and_ratings.userId==uid)].movieId.values\n",
    "    iid_movies = [i for i in movies_and_ratings.movieId.unique() if i not in uid_movies]\n",
    "    for i in iid_movies:\n",
    "        if trainset.knows_item(i):\n",
    "            if len(movies[(movies.movieId==i)])!=0:\n",
    "                title = ''.join(movies[(movies.movieId==i)].title.values)\n",
    "                prediction = algo.predict(uid=uid, iid=i)\n",
    "                df = df.append({'userId': uid, 'movieId': i, 'title':title, 'rating_pred': prediction.est}, ignore_index=True)\n",
    "    return df.sort_values('rating_pred', ascending=False).head(10)"
   ]
  },
  {
   "cell_type": "code",
   "execution_count": 85,
   "metadata": {
    "scrolled": true
   },
   "outputs": [
    {
     "data": {
      "text/html": [
       "<div>\n",
       "<style scoped>\n",
       "    .dataframe tbody tr th:only-of-type {\n",
       "        vertical-align: middle;\n",
       "    }\n",
       "\n",
       "    .dataframe tbody tr th {\n",
       "        vertical-align: top;\n",
       "    }\n",
       "\n",
       "    .dataframe thead th {\n",
       "        text-align: right;\n",
       "    }\n",
       "</style>\n",
       "<table border=\"1\" class=\"dataframe\">\n",
       "  <thead>\n",
       "    <tr style=\"text-align: right;\">\n",
       "      <th></th>\n",
       "      <th>userId</th>\n",
       "      <th>movieId</th>\n",
       "      <th>title</th>\n",
       "      <th>rating_pred</th>\n",
       "    </tr>\n",
       "  </thead>\n",
       "  <tbody>\n",
       "    <tr>\n",
       "      <th>203</th>\n",
       "      <td>100</td>\n",
       "      <td>318</td>\n",
       "      <td>Shawshank Redemption, The (1994)</td>\n",
       "      <td>4.607177</td>\n",
       "    </tr>\n",
       "    <tr>\n",
       "      <th>273</th>\n",
       "      <td>100</td>\n",
       "      <td>912</td>\n",
       "      <td>Casablanca (1942)</td>\n",
       "      <td>4.573458</td>\n",
       "    </tr>\n",
       "    <tr>\n",
       "      <th>1465</th>\n",
       "      <td>100</td>\n",
       "      <td>1262</td>\n",
       "      <td>Great Escape, The (1963)</td>\n",
       "      <td>4.568400</td>\n",
       "    </tr>\n",
       "    <tr>\n",
       "      <th>270</th>\n",
       "      <td>100</td>\n",
       "      <td>904</td>\n",
       "      <td>Rear Window (1954)</td>\n",
       "      <td>4.549644</td>\n",
       "    </tr>\n",
       "    <tr>\n",
       "      <th>214</th>\n",
       "      <td>100</td>\n",
       "      <td>1272</td>\n",
       "      <td>Patton (1970)</td>\n",
       "      <td>4.529413</td>\n",
       "    </tr>\n",
       "    <tr>\n",
       "      <th>3</th>\n",
       "      <td>100</td>\n",
       "      <td>50</td>\n",
       "      <td>Usual Suspects, The (1995)</td>\n",
       "      <td>4.501932</td>\n",
       "    </tr>\n",
       "    <tr>\n",
       "      <th>56</th>\n",
       "      <td>100</td>\n",
       "      <td>1196</td>\n",
       "      <td>Star Wars: Episode V - The Empire Strikes Back...</td>\n",
       "      <td>4.492901</td>\n",
       "    </tr>\n",
       "    <tr>\n",
       "      <th>817</th>\n",
       "      <td>100</td>\n",
       "      <td>1201</td>\n",
       "      <td>Good, the Bad and the Ugly, The (Buono, il bru...</td>\n",
       "      <td>4.490251</td>\n",
       "    </tr>\n",
       "    <tr>\n",
       "      <th>825</th>\n",
       "      <td>100</td>\n",
       "      <td>1276</td>\n",
       "      <td>Cool Hand Luke (1967)</td>\n",
       "      <td>4.489899</td>\n",
       "    </tr>\n",
       "    <tr>\n",
       "      <th>1585</th>\n",
       "      <td>100</td>\n",
       "      <td>1204</td>\n",
       "      <td>Lawrence of Arabia (1962)</td>\n",
       "      <td>4.488606</td>\n",
       "    </tr>\n",
       "  </tbody>\n",
       "</table>\n",
       "</div>"
      ],
      "text/plain": [
       "     userId movieId                                              title  \\\n",
       "203     100     318                   Shawshank Redemption, The (1994)   \n",
       "273     100     912                                  Casablanca (1942)   \n",
       "1465    100    1262                           Great Escape, The (1963)   \n",
       "270     100     904                                 Rear Window (1954)   \n",
       "214     100    1272                                      Patton (1970)   \n",
       "3       100      50                         Usual Suspects, The (1995)   \n",
       "56      100    1196  Star Wars: Episode V - The Empire Strikes Back...   \n",
       "817     100    1201  Good, the Bad and the Ugly, The (Buono, il bru...   \n",
       "825     100    1276                              Cool Hand Luke (1967)   \n",
       "1585    100    1204                          Lawrence of Arabia (1962)   \n",
       "\n",
       "      rating_pred  \n",
       "203      4.607177  \n",
       "273      4.573458  \n",
       "1465     4.568400  \n",
       "270      4.549644  \n",
       "214      4.529413  \n",
       "3        4.501932  \n",
       "56       4.492901  \n",
       "817      4.490251  \n",
       "825      4.489899  \n",
       "1585     4.488606  "
      ]
     },
     "execution_count": 85,
     "metadata": {},
     "output_type": "execute_result"
    }
   ],
   "source": [
    "hot_start(100)"
   ]
  },
  {
   "cell_type": "code",
   "execution_count": 109,
   "metadata": {},
   "outputs": [],
   "source": [
    "# Функция для определения предсказаний рекомендательной системы\n",
    "def create_predictions(userId):\n",
    "    try: \n",
    "        count_films = users_mean[(users_mean.index==userId)].movieid_count.values[0]\n",
    "        if count_films > 50:\n",
    "            print('Use hot start with {0} number films'.format(count_films))\n",
    "            movies = hot_start(userId)\n",
    "        elif count_films>15:\n",
    "            movies = warm_start(userId)\n",
    "            print('Use warm start with {0} number films'.format(count_films))\n",
    "        else:\n",
    "            movies = cold_start(userId)\n",
    "            print('Use cold start with {0} number films'.format(count_films))\n",
    "        return movies\n",
    "    except:\n",
    "        print('No information about user')\n",
    "        movies = cold_start(userId)\n",
    "        return movies"
   ]
  },
  {
   "cell_type": "code",
   "execution_count": 111,
   "metadata": {},
   "outputs": [
    {
     "name": "stdout",
     "output_type": "stream",
     "text": [
      "Use hot start with 232 number films\n"
     ]
    },
    {
     "data": {
      "text/html": [
       "<div>\n",
       "<style scoped>\n",
       "    .dataframe tbody tr th:only-of-type {\n",
       "        vertical-align: middle;\n",
       "    }\n",
       "\n",
       "    .dataframe tbody tr th {\n",
       "        vertical-align: top;\n",
       "    }\n",
       "\n",
       "    .dataframe thead th {\n",
       "        text-align: right;\n",
       "    }\n",
       "</style>\n",
       "<table border=\"1\" class=\"dataframe\">\n",
       "  <thead>\n",
       "    <tr style=\"text-align: right;\">\n",
       "      <th></th>\n",
       "      <th>userId</th>\n",
       "      <th>movieId</th>\n",
       "      <th>title</th>\n",
       "      <th>rating_pred</th>\n",
       "    </tr>\n",
       "  </thead>\n",
       "  <tbody>\n",
       "    <tr>\n",
       "      <th>0</th>\n",
       "      <td>1</td>\n",
       "      <td>318</td>\n",
       "      <td>Shawshank Redemption, The (1994)</td>\n",
       "      <td>5.000000</td>\n",
       "    </tr>\n",
       "    <tr>\n",
       "      <th>1473</th>\n",
       "      <td>1</td>\n",
       "      <td>1204</td>\n",
       "      <td>Lawrence of Arabia (1962)</td>\n",
       "      <td>5.000000</td>\n",
       "    </tr>\n",
       "    <tr>\n",
       "      <th>76</th>\n",
       "      <td>1</td>\n",
       "      <td>912</td>\n",
       "      <td>Casablanca (1942)</td>\n",
       "      <td>4.976283</td>\n",
       "    </tr>\n",
       "    <tr>\n",
       "      <th>1352</th>\n",
       "      <td>1</td>\n",
       "      <td>1262</td>\n",
       "      <td>Great Escape, The (1963)</td>\n",
       "      <td>4.969381</td>\n",
       "    </tr>\n",
       "    <tr>\n",
       "      <th>95</th>\n",
       "      <td>1</td>\n",
       "      <td>1250</td>\n",
       "      <td>Bridge on the River Kwai, The (1957)</td>\n",
       "      <td>4.963579</td>\n",
       "    </tr>\n",
       "    <tr>\n",
       "      <th>746</th>\n",
       "      <td>1</td>\n",
       "      <td>3275</td>\n",
       "      <td>Boondock Saints, The (2000)</td>\n",
       "      <td>4.958239</td>\n",
       "    </tr>\n",
       "    <tr>\n",
       "      <th>73</th>\n",
       "      <td>1</td>\n",
       "      <td>904</td>\n",
       "      <td>Rear Window (1954)</td>\n",
       "      <td>4.956128</td>\n",
       "    </tr>\n",
       "    <tr>\n",
       "      <th>1370</th>\n",
       "      <td>1</td>\n",
       "      <td>3836</td>\n",
       "      <td>Kelly's Heroes (1970)</td>\n",
       "      <td>4.951676</td>\n",
       "    </tr>\n",
       "    <tr>\n",
       "      <th>1319</th>\n",
       "      <td>1</td>\n",
       "      <td>3030</td>\n",
       "      <td>Yojimbo (1961)</td>\n",
       "      <td>4.950055</td>\n",
       "    </tr>\n",
       "    <tr>\n",
       "      <th>97</th>\n",
       "      <td>1</td>\n",
       "      <td>1266</td>\n",
       "      <td>Unforgiven (1992)</td>\n",
       "      <td>4.936721</td>\n",
       "    </tr>\n",
       "  </tbody>\n",
       "</table>\n",
       "</div>"
      ],
      "text/plain": [
       "     userId movieId                                 title  rating_pred\n",
       "0         1     318      Shawshank Redemption, The (1994)     5.000000\n",
       "1473      1    1204             Lawrence of Arabia (1962)     5.000000\n",
       "76        1     912                     Casablanca (1942)     4.976283\n",
       "1352      1    1262              Great Escape, The (1963)     4.969381\n",
       "95        1    1250  Bridge on the River Kwai, The (1957)     4.963579\n",
       "746       1    3275           Boondock Saints, The (2000)     4.958239\n",
       "73        1     904                    Rear Window (1954)     4.956128\n",
       "1370      1    3836                 Kelly's Heroes (1970)     4.951676\n",
       "1319      1    3030                        Yojimbo (1961)     4.950055\n",
       "97        1    1266                     Unforgiven (1992)     4.936721"
      ]
     },
     "execution_count": 111,
     "metadata": {},
     "output_type": "execute_result"
    }
   ],
   "source": [
    "create_predictions(1)"
   ]
  },
  {
   "cell_type": "code",
   "execution_count": null,
   "metadata": {},
   "outputs": [],
   "source": []
  }
 ],
 "metadata": {
  "kernelspec": {
   "display_name": "Python 3",
   "language": "python",
   "name": "python3"
  },
  "language_info": {
   "codemirror_mode": {
    "name": "ipython",
    "version": 3
   },
   "file_extension": ".py",
   "mimetype": "text/x-python",
   "name": "python",
   "nbconvert_exporter": "python",
   "pygments_lexer": "ipython3",
   "version": "3.6.8"
  }
 },
 "nbformat": 4,
 "nbformat_minor": 2
}
